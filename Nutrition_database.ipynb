{
  "nbformat": 4,
  "nbformat_minor": 0,
  "metadata": {
    "colab": {
      "name": "Nutrition_database.ipynb",
      "version": "0.3.2",
      "provenance": [],
      "collapsed_sections": [],
      "include_colab_link": true
    },
    "kernelspec": {
      "name": "python3",
      "display_name": "Python 3"
    }
  },
  "cells": [
    {
      "cell_type": "markdown",
      "metadata": {
        "id": "view-in-github",
        "colab_type": "text"
      },
      "source": [
        "<a href=\"https://colab.research.google.com/github/emoceanographer/WWF/blob/master/Nutrition_database.ipynb\" target=\"_parent\"><img src=\"https://colab.research.google.com/assets/colab-badge.svg\" alt=\"Open In Colab\"/></a>"
      ]
    },
    {
      "cell_type": "code",
      "metadata": {
        "id": "V8XDBrGpNWAT",
        "colab_type": "code",
        "colab": {}
      },
      "source": [
        "import json\n",
        "import urllib\n",
        "import pandas"
      ],
      "execution_count": 0,
      "outputs": []
    },
    {
      "cell_type": "code",
      "metadata": {
        "id": "y5Gz19hxr_6z",
        "colab_type": "code",
        "colab": {}
      },
      "source": [
        "def data_pull(food_dict):\n",
        "  nutr_store = {}\n",
        "  for element in food_dict:\n",
        "    if element['nutrient_id'] == 208: # energy in kCal\n",
        "      nutr_store['energy'] = element['value']\n",
        "      unit_check(element)\n",
        "    if element['nutrient_id'] == 203: # protein in g\n",
        "      nutr_store['protein'] = element['value']\n",
        "      unit_check(element)\n",
        "      #protein_se = element['sourcecode']['se']\n",
        "    for aa in aa_list: # cycle through each amino acid\n",
        "      if aa in element['name']:\n",
        "        nutr_store[aa] = element['value']\n",
        "        unit_check(element)\n",
        "  return nutr_store"
      ],
      "execution_count": 0,
      "outputs": []
    },
    {
      "cell_type": "code",
      "metadata": {
        "id": "BwIDjEPS2mcT",
        "colab_type": "code",
        "colab": {}
      },
      "source": [
        "def unit_check(element):\n",
        "  \"\"\"Checks if the measure lists g\"\"\"\n",
        "  if not element['unit'] in 'g':\n",
        "    print('unit error')\n",
        "    "
      ],
      "execution_count": 0,
      "outputs": []
    },
    {
      "cell_type": "code",
      "metadata": {
        "id": "kmJZGClqQBry",
        "colab_type": "code",
        "colab": {}
      },
      "source": [
        "# FAO foods from FAO meta-data 8/28/2019\n",
        "fao_search = {'Barley and products': 'barley', 'Beans': 'beans', 'Aquatic plants': 'seaweed',\n",
        "             'Bovine meat': 'beef', 'Butter ghee': ['ghee','gee'], \n",
        "              'Cassava and products': 'cassava', 'Cephalopods': ['octopus', 'squid'],\n",
        "             'Coconut Oil': 'coconut%20oil', 'Coconuts - Incl Copra': ['coconut', 'copra'],\n",
        "             'Cottonseed': 'cottonseed', 'Cottonseed Oil': 'cottonseed20%oil', \n",
        "             'Cream': 'cream', 'Crustaceans': ['shrimp', 'prawn', 'crab', 'lobster', 'crayfish'],\n",
        "             'Dates': 'date', 'Demersal Fish': ['cod', 'haddock,', 'pollock', 'flounder',\n",
        "                                               'sole', 'plaice', 'turbot', 'halibut'],\n",
        "             'Eggs': 'egg', 'Fish Body Oil': 'fish oil', 'Freshwater Fish': ['tilapia', 'salmon',\n",
        "                                                                            'trout', 'catfish'],\n",
        "             'Groundnut Oil': 'groundnut%20', 'Groundnuts (Shelled Eq)': 'groundnut',\n",
        "             'Honey': 'honey', 'Maize and products': ['maize', 'corn'], 'Maize Germ Oil': 'maize germ oil',\n",
        "             'Meat Aquatic Mammals': ['dolphin', 'whale', 'seal'], 'Milk - Excluding Butter': 'milk',\n",
        "             'Millet and products': 'millet', 'Molluscs other': ['clam', 'scallop', 'oyster'],\n",
        "             'Mutton & Goat Meat': ['mutton', 'goat', 'sheep', 'lamb'], 'Nuts and products': 'nut',\n",
        "             'Oats': 'oat', 'Offals': ['scrap', 'offal'], 'Olive Oil': 'olive oil', 'Palm kernels': 'palm kernel',\n",
        "             'Palmkernel Oil': 'palmkernel%20oil', 'Peas': 'pea', 'Pigmeat': ['pig', 'pork'],\n",
        "             'Plantains': 'plantain', 'Potatoes and products': 'potato', \n",
        "              'Poultry Meat': ['chicken','duck','turkey'], 'Pulses': ['pulse', 'legume', 'chickpea',\n",
        "                                                                     'lentil', 'hummus'],\n",
        "             'Rape and Mustard Oil': ['rape%20oil','mustard%20oil'], \n",
        "              'Rape and Mustardseed': ['rape', 'mustardseed'], 'Rice (Milled Equivalent)': 'rice',\n",
        "             'Ricebran Oil': 'ricebran%20oil', 'Rye and products': 'rye', 'Sesame seed': 'sesame%20seed',\n",
        "             'Sesameseed Oil': 'sesameseed%20oil', 'Sorghum and products': 'sorghum', \n",
        "             'Soyabean Oil': ['soybean%20oil','soyabean%20oil','soy%20oil'], \n",
        "              'Soyabeans':['soy','soybean','soyabean'], 'Starchy Roots': ['taro', 'ginger', 'konjac',\n",
        "                                                                         'water%20chestnut', 'arrowhead'],\n",
        "             'Sugar beet': 'sugar%20beet', 'Sunflower seed': 'sunflower%20seed', 'Sunflowerseed Oil': 'sunflowerseed20%oil',\n",
        "             'Sweet potatoes': 'sweet%20potato', }\n",
        "fao_foods = ['Alcohol Non-Food','Alcoholic Beverages','Animal fats','Animal Products','Apples and products','Aquatic Animals Others','Aquatic Plants','Aquatic Products Other','Bananas','Barley and products','Beans','Beer','Beverages Alcoholic','Beverages Fermented','Bovine Meat','Butter Ghee','Cassava and products','Cephalopods','Cereals - Excluding Beer','Cereals Other','Citrus Other','Cloves','Cocoa Beans and products','Coconut Oil','Coconuts - Incl Copra','Coffee and products','Cottonseed','Cottonseed Oil','Cream','Crustaceans','Dates','Demersal Fish','Eggs','Eggs','Fats Animals Raw','Fish Body Oil','Fish Liver Oil','Fish Seafood','Freshwater Fish','Fruits - Excluding Wine','Fruits Other','Grand Total','Grapefruit and products','Grapes and products (excl wine)','Groundnut Oil','Groundnuts (Shelled Eq)','Honey','Infant food','Lemons Limes and products','Maize and products','Maize Germ Oil','Marine Fish Other','Meat','Meat Aquatic Mammals','Meat Other','Milk - Excluding Butter','Milk - Excluding Butter','Millet and products','Miscellaneous','Miscellaneous','Molluscs Other','Mutton & Goat Meat','Nuts and products','Oats','Offals','Offals Edible','Oilcrops','Oilcrops Oil Other','Oilcrops Other','Olive Oil','Olives (including preserved)','Onions','Oranges Mandarines','Palm kernels','Palm Oil','Palmkernel Oil','Peas','Pelagic Fish','Pepper','Pigmeat','Pimento','Pineapples and products','Plantains','Population','Potatoes and products','Poultry Meat','Pulses','Pulses Other and products','Rape and Mustard Oil','Rape and Mustardseed','Rice (Milled Equivalent)','Ricebran Oil','Roots Other','Rye and products','Sesame seed','Sesameseed Oil','Sorghum and products','Soyabean Oil','Soyabeans','Spices','Spices Other','Starchy Roots','Stimulants','Sugar & Sweeteners','Sugar (Raw Equivalent)','Sugar beet','Sugar cane','Sugar Crops','Sugar non-centrifugal','Sunflower seed','Sunflowerseed Oil','Sweet potatoes','Sweeteners Other','Tea (including mate)','Tomatoes and products','Treenuts','Vegetable Oils','Vegetables','Vegetables Other','Vegetal Products','Wheat and products','Wine','Yams']"
      ],
      "execution_count": 0,
      "outputs": []
    },
    {
      "cell_type": "code",
      "metadata": {
        "id": "vgpgJrVm_VKY",
        "colab_type": "code",
        "colab": {}
      },
      "source": [
        ""
      ],
      "execution_count": 0,
      "outputs": []
    },
    {
      "cell_type": "code",
      "metadata": {
        "id": "IMmrTBQCWBVM",
        "colab_type": "code",
        "colab": {}
      },
      "source": [
        "# Pull which data we want from it\n",
        "# 'ru': reporting unit\n",
        "# nutrient_id: 208 (energy)\n",
        "# nutrient_id: 203 (protein) -- value, dp (datapoints), se\n",
        "# any one with \"group\": \"Amino Acids\"\n",
        "  # grab \"value\"  in the first box\n",
        "  \n",
        "aa_list = ['Tryptophan', 'Threonine', 'Isoleucine', 'Leucine', 'Lysine',\n",
        "          'Methionine', 'Cystine', 'Phenylalanine', 'Tyrosine', 'Valine',\n",
        "          'Arginine', 'Histidine', 'Alanine', 'Aspartic', 'Glutamic', \n",
        "          'Glycine', 'Serine', 'Hydroxyproline']\n"
      ],
      "execution_count": 0,
      "outputs": []
    },
    {
      "cell_type": "markdown",
      "metadata": {
        "id": "588VA-NePIIT",
        "colab_type": "text"
      },
      "source": [
        "USDA API"
      ]
    },
    {
      "cell_type": "code",
      "metadata": {
        "id": "SqLl07aCC0LV",
        "colab_type": "code",
        "colab": {}
      },
      "source": [
        "# Set-up for USDA API\n",
        "my_key = 'owv7XVVwwlt6tZQvEMSkZvLIEQiElEGwioNElEaH'\n",
        "url_search_start = 'https://api.nal.usda.gov/ndb/search/?format=json&q='\n",
        "url_search_end = '&ds=Standard%20Reference&max=1000&lt=f&sort=r&api_key='\n",
        "# sort = r gives by relevance; n changes to by name\n"
      ],
      "execution_count": 0,
      "outputs": []
    },
    {
      "cell_type": "code",
      "metadata": {
        "id": "5GB1V8RcVGIk",
        "colab_type": "code",
        "colab": {}
      },
      "source": [
        "query = 'bean'"
      ],
      "execution_count": 0,
      "outputs": []
    },
    {
      "cell_type": "code",
      "metadata": {
        "id": "nsu_gObnVCbZ",
        "colab_type": "code",
        "colab": {}
      },
      "source": [
        "url = url_search_start + query + url_search_end + my_key\n",
        "\n",
        "data = urllib.request.urlopen(url)\n",
        "data = json.load(data)\n",
        "\n",
        "data = data['list']['item'] # deletes the search summary\n",
        "\n",
        "if len(data)>999:\n",
        "  print(['for ', query, 'items exceeded max threshold'])"
      ],
      "execution_count": 0,
      "outputs": []
    },
    {
      "cell_type": "code",
      "metadata": {
        "id": "zeXN6JaA4x2M",
        "colab_type": "code",
        "colab": {
          "base_uri": "https://localhost:8080/",
          "height": 73
        },
        "outputId": "1b352f35-fcaa-43f5-f81b-e0d8f9b955cc"
      },
      "source": [
        "print(data)\n",
        "print(len(data))"
      ],
      "execution_count": 28,
      "outputs": [
        {
          "output_type": "stream",
          "text": [
            "[{'offset': 0, 'group': 'Legumes and Legume Products', 'name': 'Beans, liquid from stewed kidney beans', 'ndbno': '43125', 'ds': 'SR', 'manu': 'none'}, {'offset': 1, 'group': 'Vegetables and Vegetable Products', 'name': 'Vegetables, mixed (corn, lima beans, peas, green beans, carrots) canned, no salt added', 'ndbno': '43312', 'ds': 'SR', 'manu': 'none'}, {'offset': 2, 'group': 'Soups, Sauces, and Gravies', 'name': 'Dip, bean, original flavor', 'ndbno': '27065', 'ds': 'SR', 'manu': 'none'}, {'offset': 3, 'group': 'Vegetables and Vegetable Products', 'name': 'Beans, snap, green, raw', 'ndbno': '11052', 'ds': 'SR', 'manu': 'none'}, {'offset': 4, 'group': 'Vegetables and Vegetable Products', 'name': 'Beans, snap, green, microwaved', 'ndbno': '11063', 'ds': 'SR', 'manu': 'none'}, {'offset': 5, 'group': 'Vegetables and Vegetable Products', 'name': 'Yardlong bean, raw', 'ndbno': '11199', 'ds': 'SR', 'manu': 'none'}, {'offset': 6, 'group': 'Vegetables and Vegetable Products', 'name': 'Winged bean leaves, raw', 'ndbno': '11597', 'ds': 'SR', 'manu': 'none'}, {'offset': 7, 'group': 'Vegetables and Vegetable Products', 'name': 'Winged bean tuber, raw', 'ndbno': '11599', 'ds': 'SR', 'manu': 'none'}, {'offset': 8, 'group': 'Vegetables and Vegetable Products', 'name': 'Beans, snap, yellow, raw', 'ndbno': '11722', 'ds': 'SR', 'manu': 'none'}, {'offset': 9, 'group': 'Legumes and Legume Products', 'name': 'Beans, baked, home prepared', 'ndbno': '16005', 'ds': 'SR', 'manu': 'none'}, {'offset': 10, 'group': 'Legumes and Legume Products', 'name': 'Chili with beans, canned', 'ndbno': '16059', 'ds': 'SR', 'manu': 'none'}, {'offset': 11, 'group': 'Fast Foods', 'name': 'TACO BELL, Bean Burrito', 'ndbno': '21264', 'ds': 'SR', 'manu': 'Taco Bell Corp.'}, {'offset': 12, 'group': 'Meals, Entrees, and Side Dishes', 'name': 'Burrito, beef and bean, frozen', 'ndbno': '22917', 'ds': 'SR', 'manu': 'none'}, {'offset': 13, 'group': 'Meals, Entrees, and Side Dishes', 'name': 'Burrito, bean and cheese, frozen', 'ndbno': '22918', 'ds': 'SR', 'manu': 'none'}, {'offset': 14, 'group': 'Meals, Entrees, and Side Dishes', 'name': 'Burrito, beef and bean, microwaved', 'ndbno': '22928', 'ds': 'SR', 'manu': 'none'}, {'offset': 15, 'group': 'Soups, Sauces, and Gravies', 'name': 'Soup, black bean, canned, condensed', 'ndbno': '06002', 'ds': 'SR', 'manu': 'none'}, {'offset': 16, 'group': 'Soups, Sauces, and Gravies', 'name': 'SMART SOUP, Indian Bean Masala', 'ndbno': '06622', 'ds': 'SR', 'manu': 'Smart Soup'}, {'offset': 17, 'group': 'Soups, Sauces, and Gravies', 'name': \"Dip, FRITO'S, bean, original flavor\", 'ndbno': '27068', 'ds': 'SR', 'manu': 'Pepsi-Cola North America'}, {'offset': 18, 'group': 'Vegetables and Vegetable Products', 'name': 'Beans, shellie, canned, solids and liquids', 'ndbno': '11050', 'ds': 'SR', 'manu': 'none'}, {'offset': 19, 'group': 'Vegetables and Vegetable Products', 'name': 'Hyacinth-beans, immature seeds, raw', 'ndbno': '11224', 'ds': 'SR', 'manu': 'none'}, {'offset': 20, 'group': 'Vegetables and Vegetable Products', 'name': 'Beans, fava, in pod, raw', 'ndbno': '11973', 'ds': 'SR', 'manu': 'none'}, {'offset': 21, 'group': 'Legumes and Legume Products', 'name': 'Beans, adzuki, mature seeds, raw', 'ndbno': '16001', 'ds': 'SR', 'manu': 'none'}, {'offset': 22, 'group': 'Legumes and Legume Products', 'name': 'Beans, baked, canned, plain or vegetarian', 'ndbno': '16006', 'ds': 'SR', 'manu': 'none'}, {'offset': 23, 'group': 'Legumes and Legume Products', 'name': 'Beans, baked, canned, with beef', 'ndbno': '16007', 'ds': 'SR', 'manu': 'none'}, {'offset': 24, 'group': 'Legumes and Legume Products', 'name': 'Beans, baked, canned, with franks', 'ndbno': '16008', 'ds': 'SR', 'manu': 'none'}, {'offset': 25, 'group': 'Legumes and Legume Products', 'name': 'Beans, baked, canned, with pork', 'ndbno': '16009', 'ds': 'SR', 'manu': 'none'}, {'offset': 26, 'group': 'Legumes and Legume Products', 'name': 'Beans, black, mature seeds, raw', 'ndbno': '16014', 'ds': 'SR', 'manu': 'none'}, {'offset': 27, 'group': 'Legumes and Legume Products', 'name': 'Beans, french, mature seeds, raw', 'ndbno': '16022', 'ds': 'SR', 'manu': 'none'}, {'offset': 28, 'group': 'Legumes and Legume Products', 'name': 'Beans, navy, mature seeds, raw', 'ndbno': '16037', 'ds': 'SR', 'manu': 'none'}, {'offset': 29, 'group': 'Legumes and Legume Products', 'name': 'Beans, navy, mature seeds, canned', 'ndbno': '16039', 'ds': 'SR', 'manu': 'none'}, {'offset': 30, 'group': 'Legumes and Legume Products', 'name': 'Beans, pink, mature seeds, raw', 'ndbno': '16040', 'ds': 'SR', 'manu': 'none'}, {'offset': 31, 'group': 'Legumes and Legume Products', 'name': \"Beans, pinto, mature seeds, raw (Includes foods for USDA's Food Distribution Program)\", 'ndbno': '16042', 'ds': 'SR', 'manu': 'none'}, {'offset': 32, 'group': 'Legumes and Legume Products', 'name': 'Beans, yellow, mature seeds, raw', 'ndbno': '16047', 'ds': 'SR', 'manu': 'none'}, {'offset': 33, 'group': 'Legumes and Legume Products', 'name': 'Beans, white, mature seeds, raw', 'ndbno': '16049', 'ds': 'SR', 'manu': 'none'}, {'offset': 34, 'group': 'Legumes and Legume Products', 'name': 'Beans, white, mature seeds, canned', 'ndbno': '16051', 'ds': 'SR', 'manu': 'none'}, {'offset': 35, 'group': 'Legumes and Legume Products', 'name': 'Beans, pinto, canned, drained solids', 'ndbno': '16146', 'ds': 'SR', 'manu': 'none'}, {'offset': 36, 'group': 'Restaurant Foods', 'name': 'Restaurant, Latino, black bean soup', 'ndbno': '36413', 'ds': 'SR', 'manu': 'none'}, {'offset': 37, 'group': 'Soups, Sauces, and Gravies', 'name': 'Soup, bean with pork, canned, condensed', 'ndbno': '06004', 'ds': 'SR', 'manu': 'none'}, {'offset': 38, 'group': 'Soups, Sauces, and Gravies', 'name': 'Soup, bean with frankfurters, canned, condensed', 'ndbno': '06006', 'ds': 'SR', 'manu': 'none'}, {'offset': 39, 'group': 'Soups, Sauces, and Gravies', 'name': 'Soup, bean with ham, canned, chunky, ready-to-serve', 'ndbno': '06007', 'ds': 'SR', 'manu': 'none'}, {'offset': 40, 'group': 'Soups, Sauces, and Gravies', 'name': 'Soup, bean with bacon, condensed, single brand', 'ndbno': '06731', 'ds': 'SR', 'manu': 'none'}, {'offset': 41, 'group': 'Vegetables and Vegetable Products', 'name': 'Beans, kidney, mature seeds, sprouted, raw', 'ndbno': '11029', 'ds': 'SR', 'manu': 'none'}, {'offset': 42, 'group': 'Vegetables and Vegetable Products', 'name': 'Beans, navy, mature seeds, sprouted, raw', 'ndbno': '11046', 'ds': 'SR', 'manu': 'none'}, {'offset': 43, 'group': 'Vegetables and Vegetable Products', 'name': 'Beans, pinto, immature seeds, frozen, unprepared', 'ndbno': '11048', 'ds': 'SR', 'manu': 'none'}, {'offset': 44, 'group': 'Vegetables and Vegetable Products', 'name': \"Beans, snap, green, frozen, all styles, unprepared (Includes foods for USDA's Food Distribution Program)\", 'ndbno': '11060', 'ds': 'SR', 'manu': 'none'}, {'offset': 45, 'group': 'Vegetables and Vegetable Products', 'name': 'Beans, snap, green, frozen, all styles, microwaved', 'ndbno': '11062', 'ds': 'SR', 'manu': 'none'}, {'offset': 46, 'group': 'Vegetables and Vegetable Products', 'name': 'Yardlong bean, cooked, boiled, drained, without salt', 'ndbno': '11200', 'ds': 'SR', 'manu': 'none'}, {'offset': 47, 'group': 'Vegetables and Vegetable Products', 'name': 'Beans, pinto, mature seeds, sprouted, raw', 'ndbno': '11653', 'ds': 'SR', 'manu': 'none'}, {'offset': 48, 'group': 'Vegetables and Vegetable Products', 'name': 'Beans, snap, yellow, frozen, all styles, unprepared', 'ndbno': '11730', 'ds': 'SR', 'manu': 'none'}, {'offset': 49, 'group': 'Vegetables and Vegetable Products', 'name': 'Yardlong bean, cooked, boiled, drained, with salt', 'ndbno': '11899', 'ds': 'SR', 'manu': 'none'}, {'offset': 50, 'group': 'Legumes and Legume Products', 'name': 'Beans, adzuki, mature seeds, canned, sweetened', 'ndbno': '16003', 'ds': 'SR', 'manu': 'none'}, {'offset': 51, 'group': 'Legumes and Legume Products', 'name': 'Beans, baked, canned, with pork and sweet sauce', 'ndbno': '16010', 'ds': 'SR', 'manu': 'none'}, {'offset': 52, 'group': 'Legumes and Legume Products', 'name': 'Beans, baked, canned, with pork and tomato sauce', 'ndbno': '16011', 'ds': 'SR', 'manu': 'none'}, {'offset': 53, 'group': 'Legumes and Legume Products', 'name': 'Beans, black turtle, mature seeds, raw', 'ndbno': '16016', 'ds': 'SR', 'manu': 'none'}, {'offset': 54, 'group': 'Legumes and Legume Products', 'name': 'Beans, black turtle, mature seeds, canned', 'ndbno': '16018', 'ds': 'SR', 'manu': 'none'}, {'offset': 55, 'group': 'Legumes and Legume Products', 'name': 'Beans, cranberry (roman), mature seeds, raw', 'ndbno': '16019', 'ds': 'SR', 'manu': 'none'}, {'offset': 56, 'group': 'Legumes and Legume Products', 'name': 'Beans, cranberry (roman), mature seeds, canned', 'ndbno': '16021', 'ds': 'SR', 'manu': 'none'}, {'offset': 57, 'group': 'Legumes and Legume Products', 'name': \"Beans, great northern, mature seeds, raw (Includes foods for USDA's Food Distribution Program)\", 'ndbno': '16024', 'ds': 'SR', 'manu': 'none'}, {'offset': 58, 'group': 'Legumes and Legume Products', 'name': 'Beans, great northern, mature seeds, canned', 'ndbno': '16026', 'ds': 'SR', 'manu': 'none'}, {'offset': 59, 'group': 'Legumes and Legume Products', 'name': 'Beans, kidney, all types, mature seeds, raw', 'ndbno': '16027', 'ds': 'SR', 'manu': 'none'}, {'offset': 60, 'group': 'Legumes and Legume Products', 'name': 'Beans, kidney, all types, mature seeds, canned', 'ndbno': '16029', 'ds': 'SR', 'manu': 'none'}, {'offset': 61, 'group': 'Legumes and Legume Products', 'name': 'Beans, kidney, california red, mature seeds, raw', 'ndbno': '16030', 'ds': 'SR', 'manu': 'none'}, {'offset': 62, 'group': 'Legumes and Legume Products', 'name': 'Beans, kidney, red, mature seeds, raw', 'ndbno': '16032', 'ds': 'SR', 'manu': 'none'}, {'offset': 63, 'group': 'Legumes and Legume Products', 'name': 'Beans, kidney, royal red, mature seeds, raw', 'ndbno': '16035', 'ds': 'SR', 'manu': 'none'}, {'offset': 64, 'group': 'Legumes and Legume Products', 'name': 'Beans, pinto, mature seeds, canned, solids and liquids', 'ndbno': '16044', 'ds': 'SR', 'manu': 'none'}, {'offset': 65, 'group': 'Legumes and Legume Products', 'name': 'Beans, small white, mature seeds, raw', 'ndbno': '16045', 'ds': 'SR', 'manu': 'none'}, {'offset': 66, 'group': 'Legumes and Legume Products', 'name': 'Broadbeans (fava beans), mature seeds, raw', 'ndbno': '16052', 'ds': 'SR', 'manu': 'none'}, {'offset': 67, 'group': 'Legumes and Legume Products', 'name': 'Beans, black, mature seeds, canned, low sodium', 'ndbno': '16316', 'ds': 'SR', 'manu': 'none'}, {'offset': 68, 'group': 'Legumes and Legume Products', 'name': 'Beans, chili, barbecue, ranch style, cooked', 'ndbno': '43112', 'ds': 'SR', 'manu': 'none'}, {'offset': 69, 'group': 'Legumes and Legume Products', 'name': 'Beans, baked, canned, no salt added', 'ndbno': '43449', 'ds': 'SR', 'manu': 'none'}, {'offset': 70, 'group': 'Sweets', 'name': 'Gums, seed gums (includes locust bean, guar)', 'ndbno': '42281', 'ds': 'SR', 'manu': 'none'}, {'offset': 71, 'group': 'American Indian/Alaska Native Foods', 'name': 'Stew, pinto bean and hominy, badufsuki (Hopi)', 'ndbno': '35236', 'ds': 'SR', 'manu': 'none'}, {'offset': 72, 'group': 'Restaurant Foods', 'name': 'Restaurant, Latino, pupusas con frijoles (pupusas, bean)', 'ndbno': '36408', 'ds': 'SR', 'manu': 'none'}, {'offset': 73, 'group': 'Vegetables and Vegetable Products', 'name': 'Beans, kidney, mature seeds, sprouted, cooked, boiled, drained, without salt', 'ndbno': '11030', 'ds': 'SR', 'manu': 'none'}, {'offset': 74, 'group': 'Vegetables and Vegetable Products', 'name': 'Beans, navy, mature seeds, sprouted, cooked, boiled, drained, without salt', 'ndbno': '11047', 'ds': 'SR', 'manu': 'none'}, {'offset': 75, 'group': 'Vegetables and Vegetable Products', 'name': 'Beans, pinto, immature seeds, frozen, cooked, boiled, drained, without salt', 'ndbno': '11049', 'ds': 'SR', 'manu': 'none'}, {'offset': 76, 'group': 'Vegetables and Vegetable Products', 'name': 'Beans, snap, green, cooked, boiled, drained, without salt', 'ndbno': '11053', 'ds': 'SR', 'manu': 'none'}, {'offset': 77, 'group': 'Vegetables and Vegetable Products', 'name': 'Beans, snap, green, canned, regular pack, solids and liquids', 'ndbno': '11054', 'ds': 'SR', 'manu': 'none'}, {'offset': 78, 'group': 'Vegetables and Vegetable Products', 'name': 'Beans, snap, green, canned, regular pack, drained solids', 'ndbno': '11056', 'ds': 'SR', 'manu': 'none'}, {'offset': 79, 'group': 'Vegetables and Vegetable Products', 'name': 'Beans, snap, canned, all styles, seasoned, solids and liquids', 'ndbno': '11058', 'ds': 'SR', 'manu': 'none'}, {'offset': 80, 'group': 'Vegetables and Vegetable Products', 'name': 'Beans, snap, green, frozen, cooked, boiled, drained without salt', 'ndbno': '11061', 'ds': 'SR', 'manu': 'none'}, {'offset': 81, 'group': 'Vegetables and Vegetable Products', 'name': 'Hyacinth-beans, immature seeds, cooked, boiled, drained, without salt', 'ndbno': '11225', 'ds': 'SR', 'manu': 'none'}, {'offset': 82, 'group': 'Vegetables and Vegetable Products', 'name': 'Beans, mung, mature seeds, sprouted, canned, drained solids', 'ndbno': '11626', 'ds': 'SR', 'manu': 'none'}, {'offset': 83, 'group': 'Vegetables and Vegetable Products', 'name': 'Beans, pinto, mature seeds, sprouted, cooked, boiled, drained, without salt', 'ndbno': '11654', 'ds': 'SR', 'manu': 'none'}, {'offset': 84, 'group': 'Vegetables and Vegetable Products', 'name': 'Beans, kidney, mature seeds, sprouted, cooked, boiled, drained, with salt', 'ndbno': '11713', 'ds': 'SR', 'manu': 'none'}, {'offset': 85, 'group': 'Vegetables and Vegetable Products', 'name': 'Beans, navy, mature seeds, sprouted, cooked, boiled, drained, with salt', 'ndbno': '11719', 'ds': 'SR', 'manu': 'none'}, {'offset': 86, 'group': 'Vegetables and Vegetable Products', 'name': 'Beans, pinto, immature seeds, frozen, cooked, boiled, drained, with salt', 'ndbno': '11720', 'ds': 'SR', 'manu': 'none'}, {'offset': 87, 'group': 'Vegetables and Vegetable Products', 'name': 'Beans, pinto, mature seeds, sprouted, cooked, boiled, drained, with salt', 'ndbno': '11721', 'ds': 'SR', 'manu': 'none'}, {'offset': 88, 'group': 'Vegetables and Vegetable Products', 'name': 'Beans, snap, green, cooked, boiled, drained, with salt', 'ndbno': '11723', 'ds': 'SR', 'manu': 'none'}, {'offset': 89, 'group': 'Vegetables and Vegetable Products', 'name': 'Beans, snap, yellow, cooked, boiled, drained, without salt', 'ndbno': '11724', 'ds': 'SR', 'manu': 'none'}, {'offset': 90, 'group': 'Vegetables and Vegetable Products', 'name': 'Beans, snap, yellow, cooked, boiled, drained, with salt', 'ndbno': '11725', 'ds': 'SR', 'manu': 'none'}, {'offset': 91, 'group': 'Vegetables and Vegetable Products', 'name': 'Beans, snap, green, canned, no salt added, solids and liquids', 'ndbno': '11726', 'ds': 'SR', 'manu': 'none'}, {'offset': 92, 'group': 'Vegetables and Vegetable Products', 'name': 'Beans, snap, yellow, canned, regular pack, solids and liquids', 'ndbno': '11727', 'ds': 'SR', 'manu': 'none'}, {'offset': 93, 'group': 'Vegetables and Vegetable Products', 'name': 'Beans, snap, yellow, canned, no salt added, solids and liquids', 'ndbno': '11728', 'ds': 'SR', 'manu': 'none'}, {'offset': 94, 'group': 'Vegetables and Vegetable Products', 'name': 'Beans, snap, green, canned, no salt added, drained solids', 'ndbno': '11729', 'ds': 'SR', 'manu': 'none'}, {'offset': 95, 'group': 'Vegetables and Vegetable Products', 'name': 'Beans, snap, green, frozen, cooked, boiled, drained, with salt', 'ndbno': '11731', 'ds': 'SR', 'manu': 'none'}, {'offset': 96, 'group': 'Vegetables and Vegetable Products', 'name': 'Beans, snap, yellow, frozen, cooked, boiled, drained, without salt', 'ndbno': '11732', 'ds': 'SR', 'manu': 'none'}, {'offset': 97, 'group': 'Vegetables and Vegetable Products', 'name': 'Beans, snap, yellow, frozen, cooked, boiled, drained, with salt', 'ndbno': '11733', 'ds': 'SR', 'manu': 'none'}, {'offset': 98, 'group': 'Vegetables and Vegetable Products', 'name': 'Hyacinth-beans, immature seeds, cooked, boiled, drained, with salt', 'ndbno': '11788', 'ds': 'SR', 'manu': 'none'}, {'offset': 99, 'group': 'Vegetables and Vegetable Products', 'name': 'Winged bean, immature seeds, cooked, boiled, drained, with salt', 'ndbno': '11896', 'ds': 'SR', 'manu': 'none'}, {'offset': 100, 'group': 'Vegetables and Vegetable Products', 'name': 'Beans, snap, yellow, canned, regular pack, drained solids', 'ndbno': '11932', 'ds': 'SR', 'manu': 'none'}, {'offset': 101, 'group': 'Vegetables and Vegetable Products', 'name': 'Beans, snap, yellow, canned, no salt added, drained solids', 'ndbno': '11933', 'ds': 'SR', 'manu': 'none'}, {'offset': 102, 'group': 'Legumes and Legume Products', 'name': 'Beans, adzuki, mature seeds, cooked, boiled, without salt', 'ndbno': '16002', 'ds': 'SR', 'manu': 'none'}, {'offset': 103, 'group': 'Legumes and Legume Products', 'name': 'Beans, black, mature seeds, cooked, boiled, without salt', 'ndbno': '16015', 'ds': 'SR', 'manu': 'none'}, {'offset': 104, 'group': 'Legumes and Legume Products', 'name': 'Beans, black turtle, mature seeds, cooked, boiled, without salt', 'ndbno': '16017', 'ds': 'SR', 'manu': 'none'}, {'offset': 105, 'group': 'Legumes and Legume Products', 'name': 'Beans, cranberry (roman), mature seeds, cooked, boiled, without salt', 'ndbno': '16020', 'ds': 'SR', 'manu': 'none'}, {'offset': 106, 'group': 'Legumes and Legume Products', 'name': 'Beans, french, mature seeds, cooked, boiled, without salt', 'ndbno': '16023', 'ds': 'SR', 'manu': 'none'}, {'offset': 107, 'group': 'Legumes and Legume Products', 'name': 'Beans, great northern, mature seeds, cooked, boiled, without salt', 'ndbno': '16025', 'ds': 'SR', 'manu': 'none'}, {'offset': 108, 'group': 'Legumes and Legume Products', 'name': 'Beans, kidney, all types, mature seeds, cooked, boiled, without salt', 'ndbno': '16028', 'ds': 'SR', 'manu': 'none'}, {'offset': 109, 'group': 'Legumes and Legume Products', 'name': 'Beans, kidney, california red, mature seeds, cooked, boiled, without salt', 'ndbno': '16031', 'ds': 'SR', 'manu': 'none'}, {'offset': 110, 'group': 'Legumes and Legume Products', 'name': 'Beans, kidney, red, mature seeds, cooked, boiled, without salt', 'ndbno': '16033', 'ds': 'SR', 'manu': 'none'}, {'offset': 111, 'group': 'Legumes and Legume Products', 'name': 'Beans, kidney, red, mature seeds, canned, solids and liquids', 'ndbno': '16034', 'ds': 'SR', 'manu': 'none'}, {'offset': 112, 'group': 'Legumes and Legume Products', 'name': 'Beans, kidney, royal red, mature seeds, cooked, boiled, without salt', 'ndbno': '16036', 'ds': 'SR', 'manu': 'none'}, {'offset': 113, 'group': 'Legumes and Legume Products', 'name': 'Beans, navy, mature seeds, cooked, boiled, without salt', 'ndbno': '16038', 'ds': 'SR', 'manu': 'none'}, {'offset': 114, 'group': 'Legumes and Legume Products', 'name': 'Beans, pink, mature seeds, cooked, boiled, without salt', 'ndbno': '16041', 'ds': 'SR', 'manu': 'none'}, {'offset': 115, 'group': 'Legumes and Legume Products', 'name': 'Beans, pinto, mature seeds, cooked, boiled, without salt', 'ndbno': '16043', 'ds': 'SR', 'manu': 'none'}, {'offset': 116, 'group': 'Legumes and Legume Products', 'name': 'Beans, small white, mature seeds, cooked, boiled, without salt', 'ndbno': '16046', 'ds': 'SR', 'manu': 'none'}, {'offset': 117, 'group': 'Legumes and Legume Products', 'name': 'Beans, yellow, mature seeds, cooked, boiled, without salt', 'ndbno': '16048', 'ds': 'SR', 'manu': 'none'}, {'offset': 118, 'group': 'Legumes and Legume Products', 'name': 'Beans, white, mature seeds, cooked, boiled, without salt', 'ndbno': '16050', 'ds': 'SR', 'manu': 'none'}, {'offset': 119, 'group': 'Legumes and Legume Products', 'name': 'Beans, kidney, red, mature seeds, canned, drained solids', 'ndbno': '16145', 'ds': 'SR', 'manu': 'none'}, {'offset': 120, 'group': 'Legumes and Legume Products', 'name': 'Beans, adzuki, mature seed, cooked, boiled, with salt', 'ndbno': '16302', 'ds': 'SR', 'manu': 'none'}, {'offset': 121, 'group': 'Legumes and Legume Products', 'name': 'Beans, black, mature seeds, cooked, boiled, with salt', 'ndbno': '16315', 'ds': 'SR', 'manu': 'none'}, {'offset': 122, 'group': 'Legumes and Legume Products', 'name': 'Beans, black turtle, mature seeds, cooked, boiled, with salt', 'ndbno': '16317', 'ds': 'SR', 'manu': 'none'}, {'offset': 123, 'group': 'Legumes and Legume Products', 'name': 'Beans, cranberry (roman), mature seeds, cooked, boiled, with salt', 'ndbno': '16320', 'ds': 'SR', 'manu': 'none'}, {'offset': 124, 'group': 'Legumes and Legume Products', 'name': 'Beans, french, mature seeds, cooked, boiled, with salt', 'ndbno': '16323', 'ds': 'SR', 'manu': 'none'}, {'offset': 125, 'group': 'Legumes and Legume Products', 'name': 'Beans, great northern, mature seeds, cooked, boiled, with salt', 'ndbno': '16325', 'ds': 'SR', 'manu': 'none'}, {'offset': 126, 'group': 'Legumes and Legume Products', 'name': 'Beans, great northern, mature seeds, canned, low sodium', 'ndbno': '16326', 'ds': 'SR', 'manu': 'none'}, {'offset': 127, 'group': 'Legumes and Legume Products', 'name': 'Beans, kidney, all types, mature seeds, cooked, boiled, with salt', 'ndbno': '16328', 'ds': 'SR', 'manu': 'none'}, {'offset': 128, 'group': 'Legumes and Legume Products', 'name': 'Beans, kidney, california red, mature seeds, cooked, boiled, with salt', 'ndbno': '16331', 'ds': 'SR', 'manu': 'none'}, {'offset': 129, 'group': 'Legumes and Legume Products', 'name': 'Beans, kidney, red, mature seeds, cooked, boiled, with salt', 'ndbno': '16333', 'ds': 'SR', 'manu': 'none'}, {'offset': 130, 'group': 'Legumes and Legume Products', 'name': 'Beans, kidney, royal red, mature seeds, cooked, boiled with salt', 'ndbno': '16336', 'ds': 'SR', 'manu': 'none'}, {'offset': 131, 'group': 'Legumes and Legume Products', 'name': 'Beans, kidney, red, mature seeds, canned, solids and liquid, low sodium', 'ndbno': '16337', 'ds': 'SR', 'manu': 'none'}, {'offset': 132, 'group': 'Legumes and Legume Products', 'name': 'Beans, navy, mature seeds, cooked, boiled, with salt', 'ndbno': '16338', 'ds': 'SR', 'manu': 'none'}, {'offset': 133, 'group': 'Legumes and Legume Products', 'name': 'Beans, pink, mature seeds, cooked, boiled, with salt', 'ndbno': '16341', 'ds': 'SR', 'manu': 'none'}, {'offset': 134, 'group': 'Legumes and Legume Products', 'name': 'Beans, pinto, mature seeds, cooked, boiled, with salt', 'ndbno': '16343', 'ds': 'SR', 'manu': 'none'}, {'offset': 135, 'group': 'Legumes and Legume Products', 'name': 'Beans, small white, mature seeds, cooked, boiled, with salt', 'ndbno': '16346', 'ds': 'SR', 'manu': 'none'}, {'offset': 136, 'group': 'Legumes and Legume Products', 'name': 'Beans, pinto, mature seeds, canned, solids and liquids, low sodium', 'ndbno': '16347', 'ds': 'SR', 'manu': 'none'}, {'offset': 137, 'group': 'Legumes and Legume Products', 'name': 'Beans, yellow, mature seeds, cooked, boiled, with salt', 'ndbno': '16348', 'ds': 'SR', 'manu': 'none'}, {'offset': 138, 'group': 'Legumes and Legume Products', 'name': 'Beans, white, mature seeds, cooked, boiled, with salt', 'ndbno': '16350', 'ds': 'SR', 'manu': 'none'}, {'offset': 139, 'group': 'Soups, Sauces, and Gravies', 'name': 'Soup, bean & ham, canned, reduced sodium, prepared with water or ready-to-serve', 'ndbno': '06190', 'ds': 'SR', 'manu': 'none'}, {'offset': 140, 'group': 'Soups, Sauces, and Gravies', 'name': 'Soup, black bean, canned, prepared with equal volume water', 'ndbno': '06402', 'ds': 'SR', 'manu': 'none'}, {'offset': 141, 'group': 'Soups, Sauces, and Gravies', 'name': 'Soup, bean with pork, canned, prepared with equal volume water', 'ndbno': '06404', 'ds': 'SR', 'manu': 'none'}, {'offset': 142, 'group': 'Soups, Sauces, and Gravies', 'name': 'Soup, bean with frankfurters, canned, prepared with equal volume water', 'ndbno': '06406', 'ds': 'SR', 'manu': 'none'}, {'offset': 143, 'group': 'Legumes and Legume Products', 'name': 'Beans, kidney, red, mature seeds, canned, drained solids, rinsed in tap water', 'ndbno': '16335', 'ds': 'SR', 'manu': 'none'}, {'offset': 144, 'group': 'Legumes and Legume Products', 'name': 'Beans, pinto, mature seeds, canned, drained solids, rinsed in tap water', 'ndbno': '16345', 'ds': 'SR', 'manu': 'none'}, {'offset': 145, 'group': 'Baby Foods', 'name': 'Babyfood, vegetables, green beans, strained', 'ndbno': '03091', 'ds': 'SR', 'manu': 'none'}, {'offset': 146, 'group': 'Baby Foods', 'name': 'Babyfood, vegetables, green beans, junior', 'ndbno': '03092', 'ds': 'SR', 'manu': 'none'}, {'offset': 147, 'group': 'Baby Foods', 'name': 'Babyfood, green beans, dices, toddler', 'ndbno': '03093', 'ds': 'SR', 'manu': 'none'}, {'offset': 148, 'group': 'Baby Foods', 'name': 'Babyfood, vegetable, green beans and potatoes', 'ndbno': '03096', 'ds': 'SR', 'manu': 'none'}, {'offset': 149, 'group': 'Baby Foods', 'name': 'Babyfood, green beans and turkey, strained', 'ndbno': '42286', 'ds': 'SR', 'manu': 'none'}, {'offset': 150, 'group': 'Vegetables and Vegetable Products', 'name': 'Lima beans, immature seeds, raw', 'ndbno': '11031', 'ds': 'SR', 'manu': 'none'}, {'offset': 151, 'group': 'Vegetables and Vegetable Products', 'name': 'Lima beans, immature seeds, cooked, boiled, drained, without salt', 'ndbno': '11032', 'ds': 'SR', 'manu': 'none'}, {'offset': 152, 'group': 'Vegetables and Vegetable Products', 'name': 'Lima beans, immature seeds, canned, regular pack, solids and liquids', 'ndbno': '11033', 'ds': 'SR', 'manu': 'none'}, {'offset': 153, 'group': 'Vegetables and Vegetable Products', 'name': 'Lima beans, immature seeds, frozen, fordhook, unprepared', 'ndbno': '11037', 'ds': 'SR', 'manu': 'none'}, {'offset': 154, 'group': 'Vegetables and Vegetable Products', 'name': 'Lima beans, immature seeds, frozen, fordhook, cooked, boiled, drained, without salt', 'ndbno': '11038', 'ds': 'SR', 'manu': 'none'}, {'offset': 155, 'group': 'Vegetables and Vegetable Products', 'name': 'Lima beans, immature seeds, frozen, baby, unprepared', 'ndbno': '11039', 'ds': 'SR', 'manu': 'none'}, {'offset': 156, 'group': 'Vegetables and Vegetable Products', 'name': 'Lima beans, immature seeds, frozen, baby, cooked, boiled, drained, without salt', 'ndbno': '11040', 'ds': 'SR', 'manu': 'none'}, {'offset': 157, 'group': 'Vegetables and Vegetable Products', 'name': 'Mung beans, mature seeds, sprouted, raw', 'ndbno': '11043', 'ds': 'SR', 'manu': 'none'}, {'offset': 158, 'group': 'Vegetables and Vegetable Products', 'name': 'Mung beans, mature seeds, sprouted, cooked, boiled, drained, without salt', 'ndbno': '11044', 'ds': 'SR', 'manu': 'none'}, {'offset': 159, 'group': 'Vegetables and Vegetable Products', 'name': 'Mung beans, mature seeds, sprouted, cooked, stir-fried', 'ndbno': '11045', 'ds': 'SR', 'manu': 'none'}, {'offset': 160, 'group': 'Vegetables and Vegetable Products', 'name': 'Winged beans, immature seeds, raw', 'ndbno': '11595', 'ds': 'SR', 'manu': 'none'}, {'offset': 161, 'group': 'Vegetables and Vegetable Products', 'name': 'Winged beans, immature seeds, cooked, boiled, drained, without salt', 'ndbno': '11596', 'ds': 'SR', 'manu': 'none'}, {'offset': 162, 'group': 'Vegetables and Vegetable Products', 'name': 'Lima beans, immature seeds, cooked, boiled, drained, with salt', 'ndbno': '11714', 'ds': 'SR', 'manu': 'none'}, {'offset': 163, 'group': 'Vegetables and Vegetable Products', 'name': 'Lima beans, immature seeds, canned, no salt added, solids and liquids', 'ndbno': '11715', 'ds': 'SR', 'manu': 'none'}, {'offset': 164, 'group': 'Vegetables and Vegetable Products', 'name': 'Lima beans, immature seeds, frozen, baby, cooked, boiled, drained, with salt', 'ndbno': '11716', 'ds': 'SR', 'manu': 'none'}, {'offset': 165, 'group': 'Vegetables and Vegetable Products', 'name': 'Lima beans, immature seeds, frozen, fordhook, cooked, boiled, drained, with salt', 'ndbno': '11717', 'ds': 'SR', 'manu': 'none'}, {'offset': 166, 'group': 'Vegetables and Vegetable Products', 'name': 'Mung beans, mature seeds, sprouted, cooked, boiled, drained, with salt', 'ndbno': '11718', 'ds': 'SR', 'manu': 'none'}, {'offset': 167, 'group': 'Legumes and Legume Products', 'name': 'Yokan, prepared from adzuki beans and sugar', 'ndbno': '16004', 'ds': 'SR', 'manu': 'none'}, {'offset': 168, 'group': 'Legumes and Legume Products', 'name': 'Broadbeans (fava beans), mature seeds, cooked, boiled, without salt', 'ndbno': '16053', 'ds': 'SR', 'manu': 'none'}, {'offset': 169, 'group': 'Legumes and Legume Products', 'name': 'Broadbeans (fava beans), mature seeds, canned', 'ndbno': '16054', 'ds': 'SR', 'manu': 'none'}, {'offset': 170, 'group': 'Legumes and Legume Products', 'name': 'Chickpeas (garbanzo beans, bengal gram), mature seeds, raw', 'ndbno': '16056', 'ds': 'SR', 'manu': 'none'}, {'offset': 171, 'group': 'Legumes and Legume Products', 'name': 'Chickpeas (garbanzo beans, bengal gram), mature seeds, cooked, boiled, without salt', 'ndbno': '16057', 'ds': 'SR', 'manu': 'none'}, {'offset': 172, 'group': 'Legumes and Legume Products', 'name': 'Chickpeas (garbanzo beans, bengal gram), mature seeds, canned, solids and liquids', 'ndbno': '16058', 'ds': 'SR', 'manu': 'none'}, {'offset': 173, 'group': 'Legumes and Legume Products', 'name': 'Hyacinth beans, mature seeds, raw', 'ndbno': '16067', 'ds': 'SR', 'manu': 'none'}, {'offset': 174, 'group': 'Legumes and Legume Products', 'name': 'Hyacinth beans, mature seeds, cooked, boiled, without salt', 'ndbno': '16068', 'ds': 'SR', 'manu': 'none'}, {'offset': 175, 'group': 'Legumes and Legume Products', 'name': 'Lima beans, large, mature seeds, raw', 'ndbno': '16071', 'ds': 'SR', 'manu': 'none'}, {'offset': 176, 'group': 'Legumes and Legume Products', 'name': 'Lima beans, large, mature seeds, cooked, boiled, without salt', 'ndbno': '16072', 'ds': 'SR', 'manu': 'none'}, {'offset': 177, 'group': 'Legumes and Legume Products', 'name': 'Lima beans, large, mature seeds, canned', 'ndbno': '16073', 'ds': 'SR', 'manu': 'none'}, {'offset': 178, 'group': 'Legumes and Legume Products', 'name': 'Lima beans, thin seeded (baby), mature seeds, raw', 'ndbno': '16074', 'ds': 'SR', 'manu': 'none'}, {'offset': 179, 'group': 'Legumes and Legume Products', 'name': 'Lima beans, thin seeded (baby), mature seeds, cooked, boiled, without salt', 'ndbno': '16075', 'ds': 'SR', 'manu': 'none'}, {'offset': 180, 'group': 'Legumes and Legume Products', 'name': 'Mung beans, mature seeds, raw', 'ndbno': '16080', 'ds': 'SR', 'manu': 'none'}, {'offset': 181, 'group': 'Legumes and Legume Products', 'name': 'Mung beans, mature seeds, cooked, boiled, without salt', 'ndbno': '16081', 'ds': 'SR', 'manu': 'none'}, {'offset': 182, 'group': 'Legumes and Legume Products', 'name': 'Noodles, chinese, cellophane or long rice (mung beans), dehydrated', 'ndbno': '16082', 'ds': 'SR', 'manu': 'none'}, {'offset': 183, 'group': 'Legumes and Legume Products', 'name': 'Mungo beans, mature seeds, raw', 'ndbno': '16083', 'ds': 'SR', 'manu': 'none'}, {'offset': 184, 'group': 'Legumes and Legume Products', 'name': 'Mungo beans, mature seeds, cooked, boiled, without salt', 'ndbno': '16084', 'ds': 'SR', 'manu': 'none'}, {'offset': 185, 'group': 'Legumes and Legume Products', 'name': 'Refried beans, canned, traditional style', 'ndbno': '16103', 'ds': 'SR', 'manu': 'none'}, {'offset': 186, 'group': 'Legumes and Legume Products', 'name': 'Yardlong beans, mature seeds, raw', 'ndbno': '16133', 'ds': 'SR', 'manu': 'none'}, {'offset': 187, 'group': 'Legumes and Legume Products', 'name': 'Yardlong beans, mature seeds, cooked, boiled, without salt', 'ndbno': '16134', 'ds': 'SR', 'manu': 'none'}, {'offset': 188, 'group': 'Legumes and Legume Products', 'name': 'Winged beans, mature seeds, raw', 'ndbno': '16135', 'ds': 'SR', 'manu': 'none'}, {'offset': 189, 'group': 'Legumes and Legume Products', 'name': 'Winged beans, mature seeds, cooked, boiled, without salt', 'ndbno': '16136', 'ds': 'SR', 'manu': 'none'}, {'offset': 190, 'group': 'Legumes and Legume Products', 'name': 'Refried beans, canned, vegetarian', 'ndbno': '16171', 'ds': 'SR', 'manu': 'none'}, {'offset': 191, 'group': 'Legumes and Legume Products', 'name': 'Refried beans, canned, fat-free', 'ndbno': '16172', 'ds': 'SR', 'manu': 'none'}, {'offset': 192, 'group': 'Legumes and Legume Products', 'name': 'Frijoles rojos volteados (Refried beans, red, canned)', 'ndbno': '16173', 'ds': 'SR', 'manu': 'none'}, {'offset': 193, 'group': 'Legumes and Legume Products', 'name': 'Broadbeans (fava beans), mature seeds, cooked, boiled, with salt', 'ndbno': '16353', 'ds': 'SR', 'manu': 'none'}, {'offset': 194, 'group': 'Legumes and Legume Products', 'name': 'Chickpeas (garbanzo beans, bengal gram), mature seeds, cooked, boiled, with salt', 'ndbno': '16357', 'ds': 'SR', 'manu': 'none'}, {'offset': 195, 'group': 'Legumes and Legume Products', 'name': 'Chickpeas (garbanzo beans, bengal gram), mature seeds, canned, drained solids', 'ndbno': '16358', 'ds': 'SR', 'manu': 'none'}, {'offset': 196, 'group': 'Legumes and Legume Products', 'name': 'Chickpeas (garbanzo beans, bengal gram), mature seeds, canned, drained, rinsed in tap water', 'ndbno': '16359', 'ds': 'SR', 'manu': 'none'}, {'offset': 197, 'group': 'Legumes and Legume Products', 'name': 'Chickpeas (garbanzo beans, bengal gram), mature seeds, canned, solids and liquids, low sodium', 'ndbno': '16360', 'ds': 'SR', 'manu': 'none'}, {'offset': 198, 'group': 'Legumes and Legume Products', 'name': 'Hyacinth beans, mature seeds, cooked, boiled, with salt', 'ndbno': '16368', 'ds': 'SR', 'manu': 'none'}, {'offset': 199, 'group': 'Legumes and Legume Products', 'name': 'Lima beans, large, mature seeds, cooked, boiled, with salt', 'ndbno': '16372', 'ds': 'SR', 'manu': 'none'}, {'offset': 200, 'group': 'Legumes and Legume Products', 'name': 'Lima beans, thin seeded (baby), mature seeds, cooked, boiled, with salt', 'ndbno': '16375', 'ds': 'SR', 'manu': 'none'}, {'offset': 201, 'group': 'Legumes and Legume Products', 'name': 'Mung beans, mature seeds, cooked, boiled, with salt', 'ndbno': '16381', 'ds': 'SR', 'manu': 'none'}, {'offset': 202, 'group': 'Legumes and Legume Products', 'name': 'Mungo beans, mature seeds, cooked, boiled, with salt', 'ndbno': '16384', 'ds': 'SR', 'manu': 'none'}, {'offset': 203, 'group': 'Legumes and Legume Products', 'name': 'Refried beans, canned, traditional, reduced sodium', 'ndbno': '16403', 'ds': 'SR', 'manu': 'none'}, {'offset': 204, 'group': 'Legumes and Legume Products', 'name': 'Yardlong beans, mature seeds, cooked, boiled, with salt', 'ndbno': '16434', 'ds': 'SR', 'manu': 'none'}, {'offset': 205, 'group': 'Legumes and Legume Products', 'name': 'Winged beans, mature seeds, cooked, boiled, with salt', 'ndbno': '16436', 'ds': 'SR', 'manu': 'none'}, {'offset': 206, 'group': 'Sweets', 'name': 'Candies, dark chocolate coated coffee beans', 'ndbno': '19268', 'ds': 'SR', 'manu': 'none'}, {'offset': 207, 'group': 'Sweets', 'name': 'Candies, milk chocolate coated coffee beans', 'ndbno': '19279', 'ds': 'SR', 'manu': 'none'}, {'offset': 208, 'group': 'Fast Foods', 'name': 'Fast foods, burrito, with beans', 'ndbno': '21060', 'ds': 'SR', 'manu': 'none'}, {'offset': 209, 'group': 'Fast Foods', 'name': 'Fast foods, burrito, with beans and cheese', 'ndbno': '21061', 'ds': 'SR', 'manu': 'none'}, {'offset': 210, 'group': 'Fast Foods', 'name': 'Fast foods, burrito, with beans and beef', 'ndbno': '21063', 'ds': 'SR', 'manu': 'none'}, {'offset': 211, 'group': 'Fast Foods', 'name': 'Fast foods, burrito, with beans, cheese, and beef', 'ndbno': '21064', 'ds': 'SR', 'manu': 'none'}, {'offset': 212, 'group': 'Fast Foods', 'name': 'Fast foods, nachos, with cheese, beans, ground beef, and tomatoes', 'ndbno': '21080', 'ds': 'SR', 'manu': 'none'}, {'offset': 213, 'group': 'Meals, Entrees, and Side Dishes', 'name': 'Chili con carne with beans, canned entree', 'ndbno': '22904', 'ds': 'SR', 'manu': 'none'}, {'offset': 214, 'group': 'Meals, Entrees, and Side Dishes', 'name': 'Chili, no beans, canned entree', 'ndbno': '22911', 'ds': 'SR', 'manu': 'none'}, {'offset': 215, 'group': 'Meals, Entrees, and Side Dishes', 'name': 'Chili with beans, microwavable bowls', 'ndbno': '22969', 'ds': 'SR', 'manu': 'none'}, {'offset': 216, 'group': 'Restaurant Foods', 'name': 'Restaurant, family style, chili with meat and beans', 'ndbno': '36037', 'ds': 'SR', 'manu': 'none'}, {'offset': 217, 'group': 'Restaurant Foods', 'name': 'ON THE BORDER, refried beans', 'ndbno': '36045', 'ds': 'SR', 'manu': 'none'}, {'offset': 218, 'group': 'Restaurant Foods', 'name': 'Restaurant, Latino, Arroz con frijoles negros (rice and black beans)', 'ndbno': '36405', 'ds': 'SR', 'manu': 'none'}, {'offset': 219, 'group': 'Restaurant Foods', 'name': 'Restaurant, Latino, Arroz con habichuelas colorados (Rice And Red Beans)', 'ndbno': '36406', 'ds': 'SR', 'manu': 'none'}, {'offset': 220, 'group': 'Restaurant Foods', 'name': 'Restaurant, Mexican, refried beans', 'ndbno': '36418', 'ds': 'SR', 'manu': 'none'}, {'offset': 221, 'group': 'Legumes and Legume Products', 'name': 'Mothbeans, mature seeds, raw', 'ndbno': '16078', 'ds': 'SR', 'manu': 'none'}, {'offset': 222, 'group': 'Legumes and Legume Products', 'name': 'Mothbeans, mature seeds, cooked, boiled, without salt', 'ndbno': '16079', 'ds': 'SR', 'manu': 'none'}, {'offset': 223, 'group': 'Legumes and Legume Products', 'name': 'Mothbeans, mature seeds, cooked, boiled, with salt', 'ndbno': '16379', 'ds': 'SR', 'manu': 'none'}, {'offset': 224, 'group': 'Finfish and Shellfish Products', 'name': 'Fish, tilefish, raw', 'ndbno': '15112', 'ds': 'SR', 'manu': 'none'}]\n",
            "225\n"
          ],
          "name": "stdout"
        }
      ]
    },
    {
      "cell_type": "code",
      "metadata": {
        "id": "Q7GewDevV66f",
        "colab_type": "code",
        "colab": {}
      },
      "source": [
        "url_report_start = 'https://api.nal.usda.gov/ndb/V2/reports?ndbno='\n",
        "query = data[0]['ndbno'] # testing purposes only; no AA comp.\n",
        "query = '05332' # chicken, has AA\n",
        "url_report_end = '&type=f&format=json&api_key='\n",
        "# type = f gives full report\n",
        "\n",
        "url = url_report_start + query + url_report_end + my_key\n",
        "nutr_data = urllib.request.urlopen(url)\n",
        "nutr_data = json.load(nutr_data)\n",
        "\n",
        "temp = nutr_data['foods'][0]['food']['nutrients']"
      ],
      "execution_count": 0,
      "outputs": []
    },
    {
      "cell_type": "code",
      "metadata": {
        "id": "Ae_BczUj389w",
        "colab_type": "code",
        "colab": {}
      },
      "source": [
        "food_dict = {}\n",
        "for item in data: \n",
        "  item_number = item['ndbno']\n",
        "  name = item['name']\n",
        "  \n",
        "  url = url_report_start + item_number + url_report_end + my_key\n",
        "  nutr_data = urllib.request.urlopen(url)\n",
        "  nutr_data = json.load(nutr_data)\n",
        "  \n",
        "  temp = nutr_data['foods'][0]['food']['nutrients']\n",
        "  nutrients = data_pull(temp)\n",
        "  \n",
        "  food_dict[name] = nutrients\n",
        "  food_dict[name]['item_no'] = item_number\n",
        "  \n",
        "  food_dict[name]['units'] = nutr_data['foods'][0]['food']['desc']['ru']\n",
        "  food_dict[name]['descr'] = nutr_data['foods'][0]['food']['desc']['sd']\n"
      ],
      "execution_count": 0,
      "outputs": []
    },
    {
      "cell_type": "code",
      "metadata": {
        "id": "7z3GKVKS6ZqB",
        "colab_type": "code",
        "colab": {
          "base_uri": "https://localhost:8080/",
          "height": 361
        },
        "outputId": "97dcb64d-d6c4-499a-b76e-e119cf34fa5d"
      },
      "source": [
        "df = pandas.DataFrame.from_dict(food_dict,orient='index', dtype=None, columns=None)\n",
        "df"
      ],
      "execution_count": 24,
      "outputs": [
        {
          "output_type": "error",
          "ename": "AttributeError",
          "evalue": "ignored",
          "traceback": [
            "\u001b[0;31m---------------------------------------------------------------------------\u001b[0m",
            "\u001b[0;31mAttributeError\u001b[0m                            Traceback (most recent call last)",
            "\u001b[0;32m<ipython-input-24-6f17fb8587f4>\u001b[0m in \u001b[0;36m<module>\u001b[0;34m()\u001b[0m\n\u001b[0;32m----> 1\u001b[0;31m \u001b[0mdf\u001b[0m \u001b[0;34m=\u001b[0m \u001b[0mpandas\u001b[0m\u001b[0;34m.\u001b[0m\u001b[0mDataFrame\u001b[0m\u001b[0;34m.\u001b[0m\u001b[0mfrom_dict\u001b[0m\u001b[0;34m(\u001b[0m\u001b[0mfood_dict\u001b[0m\u001b[0;34m,\u001b[0m\u001b[0morient\u001b[0m\u001b[0;34m=\u001b[0m\u001b[0;34m'index'\u001b[0m\u001b[0;34m,\u001b[0m \u001b[0mdtype\u001b[0m\u001b[0;34m=\u001b[0m\u001b[0;32mNone\u001b[0m\u001b[0;34m,\u001b[0m \u001b[0mcolumns\u001b[0m\u001b[0;34m=\u001b[0m\u001b[0;32mNone\u001b[0m\u001b[0;34m)\u001b[0m\u001b[0;34m\u001b[0m\u001b[0;34m\u001b[0m\u001b[0m\n\u001b[0m\u001b[1;32m      2\u001b[0m \u001b[0mdf\u001b[0m\u001b[0;34m\u001b[0m\u001b[0;34m\u001b[0m\u001b[0m\n",
            "\u001b[0;32m/usr/local/lib/python3.6/dist-packages/pandas/core/frame.py\u001b[0m in \u001b[0;36mfrom_dict\u001b[0;34m(cls, data, orient, dtype, columns)\u001b[0m\n\u001b[1;32m   1126\u001b[0m                 \u001b[0;31m# TODO speed up Series case\u001b[0m\u001b[0;34m\u001b[0m\u001b[0;34m\u001b[0m\u001b[0;34m\u001b[0m\u001b[0m\n\u001b[1;32m   1127\u001b[0m                 \u001b[0;32mif\u001b[0m \u001b[0misinstance\u001b[0m\u001b[0;34m(\u001b[0m\u001b[0mlist\u001b[0m\u001b[0;34m(\u001b[0m\u001b[0mdata\u001b[0m\u001b[0;34m.\u001b[0m\u001b[0mvalues\u001b[0m\u001b[0;34m(\u001b[0m\u001b[0;34m)\u001b[0m\u001b[0;34m)\u001b[0m\u001b[0;34m[\u001b[0m\u001b[0;36m0\u001b[0m\u001b[0;34m]\u001b[0m\u001b[0;34m,\u001b[0m \u001b[0;34m(\u001b[0m\u001b[0mSeries\u001b[0m\u001b[0;34m,\u001b[0m \u001b[0mdict\u001b[0m\u001b[0;34m)\u001b[0m\u001b[0;34m)\u001b[0m\u001b[0;34m:\u001b[0m\u001b[0;34m\u001b[0m\u001b[0;34m\u001b[0m\u001b[0m\n\u001b[0;32m-> 1128\u001b[0;31m                     \u001b[0mdata\u001b[0m \u001b[0;34m=\u001b[0m \u001b[0m_from_nested_dict\u001b[0m\u001b[0;34m(\u001b[0m\u001b[0mdata\u001b[0m\u001b[0;34m)\u001b[0m\u001b[0;34m\u001b[0m\u001b[0;34m\u001b[0m\u001b[0m\n\u001b[0m\u001b[1;32m   1129\u001b[0m                 \u001b[0;32melse\u001b[0m\u001b[0;34m:\u001b[0m\u001b[0;34m\u001b[0m\u001b[0;34m\u001b[0m\u001b[0m\n\u001b[1;32m   1130\u001b[0m                     \u001b[0mdata\u001b[0m\u001b[0;34m,\u001b[0m \u001b[0mindex\u001b[0m \u001b[0;34m=\u001b[0m \u001b[0mlist\u001b[0m\u001b[0;34m(\u001b[0m\u001b[0mdata\u001b[0m\u001b[0;34m.\u001b[0m\u001b[0mvalues\u001b[0m\u001b[0;34m(\u001b[0m\u001b[0;34m)\u001b[0m\u001b[0;34m)\u001b[0m\u001b[0;34m,\u001b[0m \u001b[0mlist\u001b[0m\u001b[0;34m(\u001b[0m\u001b[0mdata\u001b[0m\u001b[0;34m.\u001b[0m\u001b[0mkeys\u001b[0m\u001b[0;34m(\u001b[0m\u001b[0;34m)\u001b[0m\u001b[0;34m)\u001b[0m\u001b[0;34m\u001b[0m\u001b[0;34m\u001b[0m\u001b[0m\n",
            "\u001b[0;32m/usr/local/lib/python3.6/dist-packages/pandas/core/frame.py\u001b[0m in \u001b[0;36m_from_nested_dict\u001b[0;34m(data)\u001b[0m\n\u001b[1;32m   7967\u001b[0m     \u001b[0mnew_data\u001b[0m \u001b[0;34m=\u001b[0m \u001b[0mOrderedDict\u001b[0m\u001b[0;34m(\u001b[0m\u001b[0;34m)\u001b[0m\u001b[0;34m\u001b[0m\u001b[0;34m\u001b[0m\u001b[0m\n\u001b[1;32m   7968\u001b[0m     \u001b[0;32mfor\u001b[0m \u001b[0mindex\u001b[0m\u001b[0;34m,\u001b[0m \u001b[0ms\u001b[0m \u001b[0;32min\u001b[0m \u001b[0mcompat\u001b[0m\u001b[0;34m.\u001b[0m\u001b[0miteritems\u001b[0m\u001b[0;34m(\u001b[0m\u001b[0mdata\u001b[0m\u001b[0;34m)\u001b[0m\u001b[0;34m:\u001b[0m\u001b[0;34m\u001b[0m\u001b[0;34m\u001b[0m\u001b[0m\n\u001b[0;32m-> 7969\u001b[0;31m         \u001b[0;32mfor\u001b[0m \u001b[0mcol\u001b[0m\u001b[0;34m,\u001b[0m \u001b[0mv\u001b[0m \u001b[0;32min\u001b[0m \u001b[0mcompat\u001b[0m\u001b[0;34m.\u001b[0m\u001b[0miteritems\u001b[0m\u001b[0;34m(\u001b[0m\u001b[0ms\u001b[0m\u001b[0;34m)\u001b[0m\u001b[0;34m:\u001b[0m\u001b[0;34m\u001b[0m\u001b[0;34m\u001b[0m\u001b[0m\n\u001b[0m\u001b[1;32m   7970\u001b[0m             \u001b[0mnew_data\u001b[0m\u001b[0;34m[\u001b[0m\u001b[0mcol\u001b[0m\u001b[0;34m]\u001b[0m \u001b[0;34m=\u001b[0m \u001b[0mnew_data\u001b[0m\u001b[0;34m.\u001b[0m\u001b[0mget\u001b[0m\u001b[0;34m(\u001b[0m\u001b[0mcol\u001b[0m\u001b[0;34m,\u001b[0m \u001b[0mOrderedDict\u001b[0m\u001b[0;34m(\u001b[0m\u001b[0;34m)\u001b[0m\u001b[0;34m)\u001b[0m\u001b[0;34m\u001b[0m\u001b[0;34m\u001b[0m\u001b[0m\n\u001b[1;32m   7971\u001b[0m             \u001b[0mnew_data\u001b[0m\u001b[0;34m[\u001b[0m\u001b[0mcol\u001b[0m\u001b[0;34m]\u001b[0m\u001b[0;34m[\u001b[0m\u001b[0mindex\u001b[0m\u001b[0;34m]\u001b[0m \u001b[0;34m=\u001b[0m \u001b[0mv\u001b[0m\u001b[0;34m\u001b[0m\u001b[0;34m\u001b[0m\u001b[0m\n",
            "\u001b[0;32m/usr/local/lib/python3.6/dist-packages/pandas/compat/__init__.py\u001b[0m in \u001b[0;36miteritems\u001b[0;34m(obj, **kw)\u001b[0m\n\u001b[1;32m    220\u001b[0m \u001b[0;32melse\u001b[0m\u001b[0;34m:\u001b[0m\u001b[0;34m\u001b[0m\u001b[0;34m\u001b[0m\u001b[0m\n\u001b[1;32m    221\u001b[0m     \u001b[0;32mdef\u001b[0m \u001b[0miteritems\u001b[0m\u001b[0;34m(\u001b[0m\u001b[0mobj\u001b[0m\u001b[0;34m,\u001b[0m \u001b[0;34m**\u001b[0m\u001b[0mkw\u001b[0m\u001b[0;34m)\u001b[0m\u001b[0;34m:\u001b[0m\u001b[0;34m\u001b[0m\u001b[0;34m\u001b[0m\u001b[0m\n\u001b[0;32m--> 222\u001b[0;31m         \u001b[0;32mreturn\u001b[0m \u001b[0miter\u001b[0m\u001b[0;34m(\u001b[0m\u001b[0mobj\u001b[0m\u001b[0;34m.\u001b[0m\u001b[0mitems\u001b[0m\u001b[0;34m(\u001b[0m\u001b[0;34m**\u001b[0m\u001b[0mkw\u001b[0m\u001b[0;34m)\u001b[0m\u001b[0;34m)\u001b[0m\u001b[0;34m\u001b[0m\u001b[0;34m\u001b[0m\u001b[0m\n\u001b[0m\u001b[1;32m    223\u001b[0m \u001b[0;34m\u001b[0m\u001b[0m\n\u001b[1;32m    224\u001b[0m     \u001b[0;32mdef\u001b[0m \u001b[0miterkeys\u001b[0m\u001b[0;34m(\u001b[0m\u001b[0mobj\u001b[0m\u001b[0;34m,\u001b[0m \u001b[0;34m**\u001b[0m\u001b[0mkw\u001b[0m\u001b[0;34m)\u001b[0m\u001b[0;34m:\u001b[0m\u001b[0;34m\u001b[0m\u001b[0;34m\u001b[0m\u001b[0m\n",
            "\u001b[0;31mAttributeError\u001b[0m: 'str' object has no attribute 'items'"
          ]
        }
      ]
    },
    {
      "cell_type": "code",
      "metadata": {
        "id": "C3SYLXcCmbFY",
        "colab_type": "code",
        "colab": {}
      },
      "source": [
        ""
      ],
      "execution_count": 0,
      "outputs": []
    },
    {
      "cell_type": "code",
      "metadata": {
        "id": "6cRj0T8V3Jm6",
        "colab_type": "code",
        "colab": {
          "base_uri": "https://localhost:8080/",
          "height": 381
        },
        "outputId": "4a912fbe-92a9-408c-f49e-9afcb934d17e"
      },
      "source": [
        "data_pull(temp)"
      ],
      "execution_count": 124,
      "outputs": [
        {
          "output_type": "execute_result",
          "data": {
            "text/plain": [
              "{'Alanine': 0.991,\n",
              " 'Arginine': 1.128,\n",
              " 'Aspartic': 1.616,\n",
              " 'Cystine': 0.188,\n",
              " 'Glutamic': 2.611,\n",
              " 'Glycine': 0.838,\n",
              " 'Histidine': 0.529,\n",
              " 'Hydroxyproline': 0.094,\n",
              " 'Isoleucine': 0.794,\n",
              " 'Leucine': 1.361,\n",
              " 'Lysine': 1.509,\n",
              " 'Methionine': 0.446,\n",
              " 'Phenylalanine': 0.683,\n",
              " 'Serine': 0.731,\n",
              " 'Threonine': 0.727,\n",
              " 'Tryptophan': 0.147,\n",
              " 'Tyrosine': 0.604,\n",
              " 'Valine': 0.826,\n",
              " 'energy': 143.0,\n",
              " 'protein': 17.44}"
            ]
          },
          "metadata": {
            "tags": []
          },
          "execution_count": 124
        }
      ]
    },
    {
      "cell_type": "code",
      "metadata": {
        "id": "WvKK3q1FmcAA",
        "colab_type": "code",
        "colab": {
          "base_uri": "https://localhost:8080/",
          "height": 35
        },
        "outputId": "82ce85c1-8741-4449-e724-1c2e10001550"
      },
      "source": [
        "# CHECK WHAT HAPPENS WITH WEIRD UNITS"
      ],
      "execution_count": 85,
      "outputs": [
        {
          "output_type": "stream",
          "text": [
            "['energy is ', 143.0]\n"
          ],
          "name": "stdout"
        }
      ]
    },
    {
      "cell_type": "code",
      "metadata": {
        "id": "ZG2PEaiDuHbb",
        "colab_type": "code",
        "colab": {}
      },
      "source": [
        ""
      ],
      "execution_count": 0,
      "outputs": []
    },
    {
      "cell_type": "code",
      "metadata": {
        "id": "1j4N1G-Ln7LF",
        "colab_type": "code",
        "colab": {}
      },
      "source": [
        "nutr_store = {}\n",
        "for element in temp:\n",
        "  if element['nutrient_id'] == 208: # energy in kCal\n",
        "    nutr_store['energy'] = element['value']\n",
        "  if element['nutrient_id'] == 203: # protein in g\n",
        "    nutr_store['protein'] = element['value']\n",
        "    #protein_se = element['sourcecode']['se']\n",
        "  for aa in aa_list: # cycle through each amino acid\n",
        "    if aa in element['name']:\n",
        "      nutr_store[aa] = element['value']"
      ],
      "execution_count": 0,
      "outputs": []
    }
  ]
}