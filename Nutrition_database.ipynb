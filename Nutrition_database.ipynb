{
  "nbformat": 4,
  "nbformat_minor": 0,
  "metadata": {
    "colab": {
      "name": "Nutrition_database.ipynb",
      "version": "0.3.2",
      "provenance": [],
      "collapsed_sections": [],
      "include_colab_link": true
    },
    "kernelspec": {
      "name": "python3",
      "display_name": "Python 3"
    }
  },
  "cells": [
    {
      "cell_type": "markdown",
      "metadata": {
        "id": "view-in-github",
        "colab_type": "text"
      },
      "source": [
        "<a href=\"https://colab.research.google.com/github/emoceanographer/WWF/blob/master/Nutrition_database.ipynb\" target=\"_parent\"><img src=\"https://colab.research.google.com/assets/colab-badge.svg\" alt=\"Open In Colab\"/></a>"
      ]
    },
    {
      "cell_type": "code",
      "metadata": {
        "id": "V8XDBrGpNWAT",
        "colab_type": "code",
        "colab": {}
      },
      "source": [
        "import json\n",
        "import urllib\n"
      ],
      "execution_count": 0,
      "outputs": []
    },
    {
      "cell_type": "code",
      "metadata": {
        "id": "y5Gz19hxr_6z",
        "colab_type": "code",
        "colab": {}
      },
      "source": [
        "def data_pull(food_dict):\n",
        "  nutr_store = {}\n",
        "  for element in food_dict:\n",
        "    if element['nutrient_id'] == 208: # energy in kCal\n",
        "      nutr_store['energy'] = element['value']\n",
        "    if element['nutrient_id'] == 203: # protein in g\n",
        "      nutr_store['protein'] = element['value']\n",
        "      #protein_se = element['sourcecode']['se']\n",
        "    for aa in aa_list: # cycle through each amino acid\n",
        "      if aa in element['name']:\n",
        "        nutr_store[aa] = element['value']\n",
        "  return nutr_store"
      ],
      "execution_count": 0,
      "outputs": []
    },
    {
      "cell_type": "code",
      "metadata": {
        "id": "kmJZGClqQBry",
        "colab_type": "code",
        "colab": {}
      },
      "source": [
        "# FAO foods from FAO meta-data 8/28/2019\n",
        "\n",
        "fao_foods = ['Alcohol Non-Food','Alcoholic Beverages','Animal fats','Animal Products','Apples and products','Aquatic Animals Others','Aquatic Plants','Aquatic Products Other','Bananas','Barley and products','Beans','Beer','Beverages Alcoholic','Beverages Fermented','Bovine Meat','Butter Ghee','Cassava and products','Cephalopods','Cereals - Excluding Beer','Cereals Other','Citrus Other','Cloves','Cocoa Beans and products','Coconut Oil','Coconuts - Incl Copra','Coffee and products','Cottonseed','Cottonseed Oil','Cream','Crustaceans','Dates','Demersal Fish','Eggs','Eggs','Fats Animals Raw','Fish Body Oil','Fish Liver Oil','Fish Seafood','Freshwater Fish','Fruits - Excluding Wine','Fruits Other','Grand Total','Grapefruit and products','Grapes and products (excl wine)','Groundnut Oil','Groundnuts (Shelled Eq)','Honey','Infant food','Lemons Limes and products','Maize and products','Maize Germ Oil','Marine Fish Other','Meat','Meat Aquatic Mammals','Meat Other','Milk - Excluding Butter','Milk - Excluding Butter','Millet and products','Miscellaneous','Miscellaneous','Molluscs Other','Mutton & Goat Meat','Nuts and products','Oats','Offals','Offals Edible','Oilcrops','Oilcrops Oil Other','Oilcrops Other','Olive Oil','Olives (including preserved)','Onions','Oranges Mandarines','Palm kernels','Palm Oil','Palmkernel Oil','Peas','Pelagic Fish','Pepper','Pigmeat','Pimento','Pineapples and products','Plantains','Population','Potatoes and products','Poultry Meat','Pulses','Pulses Other and products','Rape and Mustard Oil','Rape and Mustardseed','Rice (Milled Equivalent)','Ricebran Oil','Roots Other','Rye and products','Sesame seed','Sesameseed Oil','Sorghum and products','Soyabean Oil','Soyabeans','Spices','Spices Other','Starchy Roots','Stimulants','Sugar & Sweeteners','Sugar (Raw Equivalent)','Sugar beet','Sugar cane','Sugar Crops','Sugar non-centrifugal','Sunflower seed','Sunflowerseed Oil','Sweet potatoes','Sweeteners Other','Tea (including mate)','Tomatoes and products','Treenuts','Vegetable Oils','Vegetables','Vegetables Other','Vegetal Products','Wheat and products','Wine','Yams']"
      ],
      "execution_count": 0,
      "outputs": []
    },
    {
      "cell_type": "code",
      "metadata": {
        "id": "IMmrTBQCWBVM",
        "colab_type": "code",
        "colab": {}
      },
      "source": [
        "# Pull which data we want from it\n",
        "# 'ru': reporting unit\n",
        "# nutrient_id: 208 (energy)\n",
        "# nutrient_id: 203 (protein) -- value, dp (datapoints), se\n",
        "# any one with \"group\": \"Amino Acids\"\n",
        "  # grab \"value\"  in the first box\n",
        "  \n",
        "aa_list = ['Tryptophan', 'Threonine', 'Isoleucine', 'Leucine', 'Lysine',\n",
        "          'Methionine', 'Cystine', 'Phenylalanine', 'Tyrosine', 'Valine',\n",
        "          'Arginine', 'Histidine', 'Alanine', 'Aspartic', 'Glutamic', \n",
        "          'Glycine', 'Serine', 'Hydroxyproline']\n"
      ],
      "execution_count": 0,
      "outputs": []
    },
    {
      "cell_type": "markdown",
      "metadata": {
        "id": "588VA-NePIIT",
        "colab_type": "text"
      },
      "source": [
        "USDA API"
      ]
    },
    {
      "cell_type": "code",
      "metadata": {
        "id": "SqLl07aCC0LV",
        "colab_type": "code",
        "colab": {}
      },
      "source": [
        "# Set-up for USDA API\n",
        "my_key = 'owv7XVVwwlt6tZQvEMSkZvLIEQiElEGwioNElEaH'\n",
        "url_search_start = 'https://api.nal.usda.gov/ndb/search/?format=json&q='\n",
        "url_search_end = '&ds=Standard%20Reference&lt=f&sort=r&api_key='\n",
        "# sort = r gives by relevance; n changes to by name\n"
      ],
      "execution_count": 0,
      "outputs": []
    },
    {
      "cell_type": "code",
      "metadata": {
        "id": "5GB1V8RcVGIk",
        "colab_type": "code",
        "colab": {}
      },
      "source": [
        "query = 'barley'"
      ],
      "execution_count": 0,
      "outputs": []
    },
    {
      "cell_type": "code",
      "metadata": {
        "id": "nsu_gObnVCbZ",
        "colab_type": "code",
        "colab": {}
      },
      "source": [
        "url = url_search_start + query + url_search_end + my_key"
      ],
      "execution_count": 0,
      "outputs": []
    },
    {
      "cell_type": "code",
      "metadata": {
        "id": "IDHwejVKNO_-",
        "colab_type": "code",
        "colab": {}
      },
      "source": [
        "data = urllib.request.urlopen(url)\n",
        "data = json.load(data)\n",
        "\n",
        "data = data['list']['item'] # deletes the search summary"
      ],
      "execution_count": 0,
      "outputs": []
    },
    {
      "cell_type": "code",
      "metadata": {
        "id": "zeXN6JaA4x2M",
        "colab_type": "code",
        "colab": {
          "base_uri": "https://localhost:8080/",
          "height": 73
        },
        "outputId": "3fe1609c-4e87-4a28-f3f3-d4c4fb4a8ba6"
      },
      "source": [
        "print(data)\n",
        "print(len(data))"
      ],
      "execution_count": 10,
      "outputs": [
        {
          "output_type": "stream",
          "text": [
            "[{'offset': 0, 'group': 'Cereal Grains and Pasta', 'name': 'Barley, hulled', 'ndbno': '20004', 'ds': 'SR', 'manu': 'none'}, {'offset': 1, 'group': 'Cereal Grains and Pasta', 'name': 'Barley, pearled, raw', 'ndbno': '20005', 'ds': 'SR', 'manu': 'none'}, {'offset': 2, 'group': 'Cereal Grains and Pasta', 'name': 'Barley, pearled, cooked', 'ndbno': '20006', 'ds': 'SR', 'manu': 'none'}, {'offset': 3, 'group': 'Cereal Grains and Pasta', 'name': 'Barley flour or meal', 'ndbno': '20130', 'ds': 'SR', 'manu': 'none'}, {'offset': 4, 'group': 'Cereal Grains and Pasta', 'name': 'Barley malt flour', 'ndbno': '20131', 'ds': 'SR', 'manu': 'none'}, {'offset': 5, 'group': 'Baby Foods', 'name': 'Babyfood, cereal, barley, dry fortified', 'ndbno': '03181', 'ds': 'SR', 'manu': 'none'}, {'offset': 6, 'group': 'Soups, Sauces, and Gravies', 'name': 'Soup, mushroom barley, canned, condensed', 'ndbno': '06042', 'ds': 'SR', 'manu': 'none'}, {'offset': 7, 'group': 'Soups, Sauces, and Gravies', 'name': 'Soup, beef barley, ready to serve', 'ndbno': '27062', 'ds': 'SR', 'manu': 'none'}, {'offset': 8, 'group': 'Baby Foods', 'name': 'Babyfood, cereal, barley, prepared with whole milk', 'ndbno': '03681', 'ds': 'SR', 'manu': 'none'}, {'offset': 9, 'group': 'Soups, Sauces, and Gravies', 'name': \"CAMPBELL'S CHUNKY, Hearty Beef Barley Soup\", 'ndbno': '06415', 'ds': 'SR', 'manu': 'Campbell Soup Co.'}, {'offset': 10, 'group': 'Soups, Sauces, and Gravies', 'name': 'Soup, mushroom barley, canned, prepared with equal volume water', 'ndbno': '06442', 'ds': 'SR', 'manu': 'none'}]\n",
            "11\n"
          ],
          "name": "stdout"
        }
      ]
    },
    {
      "cell_type": "code",
      "metadata": {
        "id": "Q7GewDevV66f",
        "colab_type": "code",
        "colab": {}
      },
      "source": [
        "url_report_start = 'https://api.nal.usda.gov/ndb/V2/reports?ndbno='\n",
        "query = data[0]['ndbno'] # testing purposes only; no AA comp.\n",
        "query = '05332' # chicken, has AA\n",
        "url_report_end = '&type=f&format=json&api_key='\n",
        "# type = f gives full report\n",
        "\n",
        "url = url_report_start + query + url_report_end + my_key\n",
        "nutr_data = urllib.request.urlopen(url)\n",
        "nutr_data = json.load(nutr_data)"
      ],
      "execution_count": 0,
      "outputs": []
    },
    {
      "cell_type": "code",
      "metadata": {
        "id": "e6J_KrtL2Uwz",
        "colab_type": "code",
        "colab": {}
      },
      "source": [
        "temp = nutr_data['foods'][0]['food']['nutrients']"
      ],
      "execution_count": 0,
      "outputs": []
    },
    {
      "cell_type": "code",
      "metadata": {
        "id": "Ae_BczUj389w",
        "colab_type": "code",
        "colab": {}
      },
      "source": [
        "food_dict = {}\n",
        "for item in data: \n",
        "  item_number = item['ndbno']\n",
        "  name = item['name']\n",
        "  \n",
        "  url = url_report_start + item_number + url_report_end + my_key\n",
        "  nutr_data = urllib.request.urlopen(url)\n",
        "  nutr_data = json.load(nutr_data)\n",
        "  \n",
        "  temp = nutr_data['foods'][0]['food']['nutrients']\n",
        "  nutrients = data_pull(temp)\n",
        "  \n",
        "  food_dict[name] = nutrients\n",
        "  food_dict[name]['item_no'] = item_number\n",
        " "
      ],
      "execution_count": 0,
      "outputs": []
    },
    {
      "cell_type": "code",
      "metadata": {
        "id": "7z3GKVKS6ZqB",
        "colab_type": "code",
        "colab": {
          "base_uri": "https://localhost:8080/",
          "height": 935
        },
        "outputId": "cf646e37-643d-4e41-a9ae-e8f217aefe8c"
      },
      "source": [
        "import pandas\n",
        "\n",
        "df = pandas.DataFrame.from_dict(food_dict,orient='index', dtype=None, columns=None)\n",
        "df"
      ],
      "execution_count": 17,
      "outputs": [
        {
          "output_type": "execute_result",
          "data": {
            "text/html": [
              "<div>\n",
              "<style scoped>\n",
              "    .dataframe tbody tr th:only-of-type {\n",
              "        vertical-align: middle;\n",
              "    }\n",
              "\n",
              "    .dataframe tbody tr th {\n",
              "        vertical-align: top;\n",
              "    }\n",
              "\n",
              "    .dataframe thead th {\n",
              "        text-align: right;\n",
              "    }\n",
              "</style>\n",
              "<table border=\"1\" class=\"dataframe\">\n",
              "  <thead>\n",
              "    <tr style=\"text-align: right;\">\n",
              "      <th></th>\n",
              "      <th>energy</th>\n",
              "      <th>protein</th>\n",
              "      <th>Tryptophan</th>\n",
              "      <th>Threonine</th>\n",
              "      <th>Isoleucine</th>\n",
              "      <th>Leucine</th>\n",
              "      <th>Lysine</th>\n",
              "      <th>Methionine</th>\n",
              "      <th>Cystine</th>\n",
              "      <th>Phenylalanine</th>\n",
              "      <th>Tyrosine</th>\n",
              "      <th>Valine</th>\n",
              "      <th>Arginine</th>\n",
              "      <th>Histidine</th>\n",
              "      <th>Alanine</th>\n",
              "      <th>Aspartic</th>\n",
              "      <th>Glutamic</th>\n",
              "      <th>Glycine</th>\n",
              "      <th>Serine</th>\n",
              "      <th>item_no</th>\n",
              "    </tr>\n",
              "  </thead>\n",
              "  <tbody>\n",
              "    <tr>\n",
              "      <th>Babyfood, cereal, barley, dry fortified</th>\n",
              "      <td>376.0</td>\n",
              "      <td>13.20</td>\n",
              "      <td>NaN</td>\n",
              "      <td>NaN</td>\n",
              "      <td>NaN</td>\n",
              "      <td>NaN</td>\n",
              "      <td>NaN</td>\n",
              "      <td>NaN</td>\n",
              "      <td>NaN</td>\n",
              "      <td>NaN</td>\n",
              "      <td>NaN</td>\n",
              "      <td>NaN</td>\n",
              "      <td>NaN</td>\n",
              "      <td>NaN</td>\n",
              "      <td>NaN</td>\n",
              "      <td>NaN</td>\n",
              "      <td>NaN</td>\n",
              "      <td>NaN</td>\n",
              "      <td>NaN</td>\n",
              "      <td>03181</td>\n",
              "    </tr>\n",
              "    <tr>\n",
              "      <th>Babyfood, cereal, barley, prepared with whole milk</th>\n",
              "      <td>84.0</td>\n",
              "      <td>3.73</td>\n",
              "      <td>0.060</td>\n",
              "      <td>0.157</td>\n",
              "      <td>0.180</td>\n",
              "      <td>0.300</td>\n",
              "      <td>0.154</td>\n",
              "      <td>0.083</td>\n",
              "      <td>0.034</td>\n",
              "      <td>0.181</td>\n",
              "      <td>0.167</td>\n",
              "      <td>0.218</td>\n",
              "      <td>0.109</td>\n",
              "      <td>0.086</td>\n",
              "      <td>0.124</td>\n",
              "      <td>0.262</td>\n",
              "      <td>0.820</td>\n",
              "      <td>0.099</td>\n",
              "      <td>0.132</td>\n",
              "      <td>03681</td>\n",
              "    </tr>\n",
              "    <tr>\n",
              "      <th>Barley flour or meal</th>\n",
              "      <td>345.0</td>\n",
              "      <td>10.50</td>\n",
              "      <td>0.175</td>\n",
              "      <td>0.356</td>\n",
              "      <td>0.383</td>\n",
              "      <td>0.713</td>\n",
              "      <td>0.391</td>\n",
              "      <td>0.202</td>\n",
              "      <td>0.232</td>\n",
              "      <td>0.589</td>\n",
              "      <td>0.301</td>\n",
              "      <td>0.515</td>\n",
              "      <td>0.526</td>\n",
              "      <td>0.236</td>\n",
              "      <td>0.409</td>\n",
              "      <td>0.655</td>\n",
              "      <td>2.741</td>\n",
              "      <td>0.380</td>\n",
              "      <td>0.443</td>\n",
              "      <td>20130</td>\n",
              "    </tr>\n",
              "    <tr>\n",
              "      <th>Barley malt flour</th>\n",
              "      <td>361.0</td>\n",
              "      <td>10.28</td>\n",
              "      <td>0.132</td>\n",
              "      <td>0.407</td>\n",
              "      <td>0.361</td>\n",
              "      <td>0.746</td>\n",
              "      <td>0.535</td>\n",
              "      <td>0.294</td>\n",
              "      <td>0.157</td>\n",
              "      <td>0.225</td>\n",
              "      <td>0.341</td>\n",
              "      <td>0.503</td>\n",
              "      <td>0.836</td>\n",
              "      <td>0.275</td>\n",
              "      <td>0.516</td>\n",
              "      <td>0.776</td>\n",
              "      <td>1.825</td>\n",
              "      <td>0.440</td>\n",
              "      <td>0.465</td>\n",
              "      <td>20131</td>\n",
              "    </tr>\n",
              "    <tr>\n",
              "      <th>Barley, hulled</th>\n",
              "      <td>354.0</td>\n",
              "      <td>12.48</td>\n",
              "      <td>0.208</td>\n",
              "      <td>0.424</td>\n",
              "      <td>0.456</td>\n",
              "      <td>0.848</td>\n",
              "      <td>0.465</td>\n",
              "      <td>0.240</td>\n",
              "      <td>0.276</td>\n",
              "      <td>0.700</td>\n",
              "      <td>0.358</td>\n",
              "      <td>0.612</td>\n",
              "      <td>0.625</td>\n",
              "      <td>0.281</td>\n",
              "      <td>0.486</td>\n",
              "      <td>0.779</td>\n",
              "      <td>3.261</td>\n",
              "      <td>0.452</td>\n",
              "      <td>0.527</td>\n",
              "      <td>20004</td>\n",
              "    </tr>\n",
              "    <tr>\n",
              "      <th>Barley, pearled, cooked</th>\n",
              "      <td>123.0</td>\n",
              "      <td>2.26</td>\n",
              "      <td>0.038</td>\n",
              "      <td>0.077</td>\n",
              "      <td>0.083</td>\n",
              "      <td>0.154</td>\n",
              "      <td>0.084</td>\n",
              "      <td>0.043</td>\n",
              "      <td>0.050</td>\n",
              "      <td>0.127</td>\n",
              "      <td>0.065</td>\n",
              "      <td>0.111</td>\n",
              "      <td>0.113</td>\n",
              "      <td>0.051</td>\n",
              "      <td>0.088</td>\n",
              "      <td>0.141</td>\n",
              "      <td>0.591</td>\n",
              "      <td>0.082</td>\n",
              "      <td>0.095</td>\n",
              "      <td>20006</td>\n",
              "    </tr>\n",
              "    <tr>\n",
              "      <th>Barley, pearled, raw</th>\n",
              "      <td>352.0</td>\n",
              "      <td>9.91</td>\n",
              "      <td>0.165</td>\n",
              "      <td>0.337</td>\n",
              "      <td>0.362</td>\n",
              "      <td>0.673</td>\n",
              "      <td>0.369</td>\n",
              "      <td>0.190</td>\n",
              "      <td>0.219</td>\n",
              "      <td>0.556</td>\n",
              "      <td>0.284</td>\n",
              "      <td>0.486</td>\n",
              "      <td>0.496</td>\n",
              "      <td>0.223</td>\n",
              "      <td>0.386</td>\n",
              "      <td>0.619</td>\n",
              "      <td>2.588</td>\n",
              "      <td>0.359</td>\n",
              "      <td>0.418</td>\n",
              "      <td>20005</td>\n",
              "    </tr>\n",
              "    <tr>\n",
              "      <th>CAMPBELL'S CHUNKY, Hearty Beef Barley Soup</th>\n",
              "      <td>56.0</td>\n",
              "      <td>2.89</td>\n",
              "      <td>NaN</td>\n",
              "      <td>NaN</td>\n",
              "      <td>NaN</td>\n",
              "      <td>NaN</td>\n",
              "      <td>NaN</td>\n",
              "      <td>NaN</td>\n",
              "      <td>NaN</td>\n",
              "      <td>NaN</td>\n",
              "      <td>NaN</td>\n",
              "      <td>NaN</td>\n",
              "      <td>NaN</td>\n",
              "      <td>NaN</td>\n",
              "      <td>NaN</td>\n",
              "      <td>NaN</td>\n",
              "      <td>NaN</td>\n",
              "      <td>NaN</td>\n",
              "      <td>NaN</td>\n",
              "      <td>06415</td>\n",
              "    </tr>\n",
              "    <tr>\n",
              "      <th>Soup, beef barley, ready to serve</th>\n",
              "      <td>52.0</td>\n",
              "      <td>2.81</td>\n",
              "      <td>NaN</td>\n",
              "      <td>NaN</td>\n",
              "      <td>NaN</td>\n",
              "      <td>NaN</td>\n",
              "      <td>NaN</td>\n",
              "      <td>NaN</td>\n",
              "      <td>NaN</td>\n",
              "      <td>NaN</td>\n",
              "      <td>NaN</td>\n",
              "      <td>NaN</td>\n",
              "      <td>NaN</td>\n",
              "      <td>NaN</td>\n",
              "      <td>NaN</td>\n",
              "      <td>NaN</td>\n",
              "      <td>NaN</td>\n",
              "      <td>NaN</td>\n",
              "      <td>NaN</td>\n",
              "      <td>27062</td>\n",
              "    </tr>\n",
              "    <tr>\n",
              "      <th>Soup, mushroom barley, canned, condensed</th>\n",
              "      <td>61.0</td>\n",
              "      <td>1.50</td>\n",
              "      <td>NaN</td>\n",
              "      <td>NaN</td>\n",
              "      <td>NaN</td>\n",
              "      <td>NaN</td>\n",
              "      <td>NaN</td>\n",
              "      <td>NaN</td>\n",
              "      <td>NaN</td>\n",
              "      <td>NaN</td>\n",
              "      <td>NaN</td>\n",
              "      <td>NaN</td>\n",
              "      <td>NaN</td>\n",
              "      <td>NaN</td>\n",
              "      <td>NaN</td>\n",
              "      <td>NaN</td>\n",
              "      <td>NaN</td>\n",
              "      <td>NaN</td>\n",
              "      <td>NaN</td>\n",
              "      <td>06042</td>\n",
              "    </tr>\n",
              "    <tr>\n",
              "      <th>Soup, mushroom barley, canned, prepared with equal volume water</th>\n",
              "      <td>30.0</td>\n",
              "      <td>0.77</td>\n",
              "      <td>NaN</td>\n",
              "      <td>NaN</td>\n",
              "      <td>NaN</td>\n",
              "      <td>NaN</td>\n",
              "      <td>NaN</td>\n",
              "      <td>NaN</td>\n",
              "      <td>NaN</td>\n",
              "      <td>NaN</td>\n",
              "      <td>NaN</td>\n",
              "      <td>NaN</td>\n",
              "      <td>NaN</td>\n",
              "      <td>NaN</td>\n",
              "      <td>NaN</td>\n",
              "      <td>NaN</td>\n",
              "      <td>NaN</td>\n",
              "      <td>NaN</td>\n",
              "      <td>NaN</td>\n",
              "      <td>06442</td>\n",
              "    </tr>\n",
              "  </tbody>\n",
              "</table>\n",
              "</div>"
            ],
            "text/plain": [
              "                                                    energy  ...  item_no\n",
              "Babyfood, cereal, barley, dry fortified              376.0  ...    03181\n",
              "Babyfood, cereal, barley, prepared with whole milk    84.0  ...    03681\n",
              "Barley flour or meal                                 345.0  ...    20130\n",
              "Barley malt flour                                    361.0  ...    20131\n",
              "Barley, hulled                                       354.0  ...    20004\n",
              "Barley, pearled, cooked                              123.0  ...    20006\n",
              "Barley, pearled, raw                                 352.0  ...    20005\n",
              "CAMPBELL'S CHUNKY, Hearty Beef Barley Soup            56.0  ...    06415\n",
              "Soup, beef barley, ready to serve                     52.0  ...    27062\n",
              "Soup, mushroom barley, canned, condensed              61.0  ...    06042\n",
              "Soup, mushroom barley, canned, prepared with eq...    30.0  ...    06442\n",
              "\n",
              "[11 rows x 20 columns]"
            ]
          },
          "metadata": {
            "tags": []
          },
          "execution_count": 17
        }
      ]
    },
    {
      "cell_type": "code",
      "metadata": {
        "id": "C3SYLXcCmbFY",
        "colab_type": "code",
        "colab": {}
      },
      "source": [
        ""
      ],
      "execution_count": 0,
      "outputs": []
    },
    {
      "cell_type": "code",
      "metadata": {
        "id": "6cRj0T8V3Jm6",
        "colab_type": "code",
        "colab": {
          "base_uri": "https://localhost:8080/",
          "height": 381
        },
        "outputId": "4a912fbe-92a9-408c-f49e-9afcb934d17e"
      },
      "source": [
        "data_pull(temp)"
      ],
      "execution_count": 124,
      "outputs": [
        {
          "output_type": "execute_result",
          "data": {
            "text/plain": [
              "{'Alanine': 0.991,\n",
              " 'Arginine': 1.128,\n",
              " 'Aspartic': 1.616,\n",
              " 'Cystine': 0.188,\n",
              " 'Glutamic': 2.611,\n",
              " 'Glycine': 0.838,\n",
              " 'Histidine': 0.529,\n",
              " 'Hydroxyproline': 0.094,\n",
              " 'Isoleucine': 0.794,\n",
              " 'Leucine': 1.361,\n",
              " 'Lysine': 1.509,\n",
              " 'Methionine': 0.446,\n",
              " 'Phenylalanine': 0.683,\n",
              " 'Serine': 0.731,\n",
              " 'Threonine': 0.727,\n",
              " 'Tryptophan': 0.147,\n",
              " 'Tyrosine': 0.604,\n",
              " 'Valine': 0.826,\n",
              " 'energy': 143.0,\n",
              " 'protein': 17.44}"
            ]
          },
          "metadata": {
            "tags": []
          },
          "execution_count": 124
        }
      ]
    },
    {
      "cell_type": "code",
      "metadata": {
        "id": "WvKK3q1FmcAA",
        "colab_type": "code",
        "colab": {
          "base_uri": "https://localhost:8080/",
          "height": 35
        },
        "outputId": "82ce85c1-8741-4449-e724-1c2e10001550"
      },
      "source": [
        "# CHECK WHAT HAPPENS WITH WEIRD UNITS"
      ],
      "execution_count": 85,
      "outputs": [
        {
          "output_type": "stream",
          "text": [
            "['energy is ', 143.0]\n"
          ],
          "name": "stdout"
        }
      ]
    },
    {
      "cell_type": "code",
      "metadata": {
        "id": "ZG2PEaiDuHbb",
        "colab_type": "code",
        "colab": {}
      },
      "source": [
        ""
      ],
      "execution_count": 0,
      "outputs": []
    },
    {
      "cell_type": "code",
      "metadata": {
        "id": "1j4N1G-Ln7LF",
        "colab_type": "code",
        "colab": {}
      },
      "source": [
        "nutr_store = {}\n",
        "for element in temp:\n",
        "  if element['nutrient_id'] == 208: # energy in kCal\n",
        "    nutr_store['energy'] = element['value']\n",
        "  if element['nutrient_id'] == 203: # protein in g\n",
        "    nutr_store['protein'] = element['value']\n",
        "    #protein_se = element['sourcecode']['se']\n",
        "  for aa in aa_list: # cycle through each amino acid\n",
        "    if aa in element['name']:\n",
        "      nutr_store[aa] = element['value']"
      ],
      "execution_count": 0,
      "outputs": []
    }
  ]
}