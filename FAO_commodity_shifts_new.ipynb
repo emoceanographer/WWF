{
  "nbformat": 4,
  "nbformat_minor": 0,
  "metadata": {
    "colab": {
      "name": "FAO_commodity_shifts_new.ipynb",
      "provenance": [],
      "collapsed_sections": [],
      "include_colab_link": true
    },
    "kernelspec": {
      "name": "python3",
      "display_name": "Python 3"
    }
  },
  "cells": [
    {
      "cell_type": "markdown",
      "metadata": {
        "id": "view-in-github",
        "colab_type": "text"
      },
      "source": [
        "<a href=\"https://colab.research.google.com/github/emoceanographer/WWF/blob/master/FAO_commodity_shifts_new.ipynb\" target=\"_parent\"><img src=\"https://colab.research.google.com/assets/colab-badge.svg\" alt=\"Open In Colab\"/></a>"
      ]
    },
    {
      "cell_type": "code",
      "metadata": {
        "id": "d7kQqlwgFIBn",
        "colab_type": "code",
        "outputId": "937d8e16-92d8-4302-cd00-a591e3b82c92",
        "colab": {
          "base_uri": "https://localhost:8080/",
          "height": 54
        }
      },
      "source": [
        "from google.colab import drive\n",
        "drive.mount('/content/gdrive')"
      ],
      "execution_count": 9,
      "outputs": [
        {
          "output_type": "stream",
          "text": [
            "Drive already mounted at /content/gdrive; to attempt to forcibly remount, call drive.mount(\"/content/gdrive\", force_remount=True).\n"
          ],
          "name": "stdout"
        }
      ]
    },
    {
      "cell_type": "code",
      "metadata": {
        "id": "nxiy7r-bFgMV",
        "colab_type": "code",
        "colab": {}
      },
      "source": [
        "import pandas as pd\n",
        "from scipy import stats\n",
        "import numpy as np\n"
      ],
      "execution_count": 0,
      "outputs": []
    },
    {
      "cell_type": "code",
      "metadata": {
        "id": "sZSZgz8ZFiCL",
        "colab_type": "code",
        "colab": {}
      },
      "source": [
        "def unique(long_list):\n",
        "  unique_list = []\n",
        "  for element in long_list: \n",
        "    if element not in unique_list:\n",
        "      unique_list.append(element)\n",
        "  return unique_list\n",
        "\n",
        "def max_change(value,year):\n",
        "  max_value = max(value)\n",
        "  max_index = value.index(max_value)\n",
        "  return([max_value, year[max_index]])\n",
        "\n",
        "def change_calc(value,year_offset):\n",
        "  \"\"\"Calculates the difference between elements 'year_offset' apart within a list\"\"\"\n",
        "  change_value = []\n",
        "  for i in range(year_offset,len(value)): \n",
        "    change_value.append(value[i] - value[i-year_offset])\n",
        "  return change_value\n",
        "\n",
        "def fv_mean(listA):\n",
        "  output = []\n",
        "  listA = list(listA)\n",
        "  for item in listA:\n",
        "    if len(item)>0:\n",
        "      output.append(item[0])\n",
        "  if len(output)>0:\n",
        "    mean_output = stat.mean(output)\n",
        "  else:\n",
        "    mean_output = output\n",
        "  return mean_output"
      ],
      "execution_count": 0,
      "outputs": []
    },
    {
      "cell_type": "code",
      "metadata": {
        "id": "MPXusL4IFw-C",
        "colab_type": "code",
        "colab": {}
      },
      "source": [
        "def country_all_analysis(country_df, domain):\n",
        "  \"\"\"Country data frame is expecting an FAO data set for a country; 'domain'\n",
        "  should be the \"element\" we are interested in\"\"\"\n",
        "  \n",
        "  if country_df['Element'].str.contains(domain).any():\n",
        "    data = country_df[country_df['Element'].str.contains(domain)]\n",
        "\n",
        "    slope,t,t,t,t = stats.linregress(data['Year'], data['Value'])\n",
        "    value = list(data['Value'])\n",
        "\n",
        "    change_1yr = change_calc(value,1)\n",
        "    max_1yr = max_change(change_1yr, list(data['Year'][1:]))\n",
        "    change_5yr = change_calc(value,5) \n",
        "    max_5yr = max_change(change_5yr, list(data['Year'][5:]))\n",
        "\n",
        "    output = {'Slope'+'_'+domain: slope, 'Delta1yr'+'_'+domain: max_1yr[0],\n",
        "              'D1y_yr': max_1yr[1], 'Delta5yr'+'_'+domain: max_5yr[0],\n",
        "              'D5y_yr': max_5yr[1]\n",
        "             }\n",
        "  else:\n",
        "    output = {'Slope'+'_'+domain: float('nan'), 'Delta1yr'+'_'+domain: float('nan'),\n",
        "              'D1y_yr': float('nan'), 'Delta5yr'+'_'+domain: float('nan'),\n",
        "              'D5y_yr': float('nan')\n",
        "             }\n",
        "  return output"
      ],
      "execution_count": 0,
      "outputs": []
    },
    {
      "cell_type": "code",
      "metadata": {
        "id": "XePeQwUoWPWm",
        "colab_type": "code",
        "colab": {}
      },
      "source": [
        "import matplotlib.pyplot as plt\n",
        "from matplotlib import cm\n",
        "from matplotlib.colors import ListedColormap, LinearSegmentedColormap\n",
        "rainbow = cm.get_cmap('rainbow',12)\n",
        "\n",
        "def plot_color(x,y,t,x_label,y_label,title):\n",
        "  \"\"\"Plots x vs y with colors set by t; labels also entered as inputs\"\"\"\n",
        "  fig = plt.figure(figsize = (8,8))\n",
        "  ax = fig.add_subplot(1,1,1) \n",
        "  ax.set_xlabel(x_label, fontsize = 15)\n",
        "  ax.set_ylabel(y_label, fontsize = 15) # grab units from sheet\n",
        "  ax.set_title(title, fontsize = 20) \n",
        "  # grab the country name and commodity from the data\n",
        "  \n",
        "  #rainbow = cm.get_cmap('rainbow',len(t))\n",
        "  #for i in range(0,len(x)): # goes through each element\n",
        "   # ax.scatter(x[i], y[i], c = rainbow[i])\n",
        "  plt.scatter(x, y, c = t, cmap = 'rainbow')\n",
        "  plt.show()\n",
        "  \n",
        "def plot_simple(x,y,x_label, y_label, title): \n",
        "  fig = plt.figure(figsize = (4,4))\n",
        "  ax = fig.add_subplot(1,1,1) \n",
        "  ax.set_xlabel(x_label, fontsize = 10)\n",
        "  ax.set_ylabel(y_label, fontsize = 10) # grab units from sheet\n",
        "  ax.set_title(title, fontsize = 10) \n",
        "  \n",
        "  plt.scatter(x,y)\n",
        "  plt.show()\n",
        "  \n",
        "# plots, if desired\n",
        "def ctry_plot(country,df,df_gdp,commodity):\n",
        "  country_ID = df['Country'].str.contains(country)\n",
        "  country_data = df[country_ID] # this seems to grab only the \"true\" values from the above\n",
        "  commodity_data = country_data[country_data['Item'].str.contains(commodity)]\n",
        "\n",
        "  country_ID = df_gdp['Area'].str.contains(country) # grabs same country from GDP data\n",
        "  country_data = df_gdp[country_ID]\n",
        "  gdp_data = country_data[country_data['Item'].str.contains(gdp_type)]\n",
        "\n",
        "  list1 = [] # commodity change\n",
        "  list2 = [] # GDP change\n",
        "  list3 = [] # year\n",
        "  \n",
        "  for year in unique(list(commodity_data['Year'])):\n",
        "\n",
        "    if gdp_data['Year'].astype(str).str.contains(str(year)).any(): # if that year exists\n",
        "      yr_data1 = commodity_data[commodity_data['Year'].astype(str).str.contains(str(year))]\n",
        "      yr_data2 = gdp_data[gdp_data['Year'].astype(str).str.contains(str(year))]\n",
        "      list1.append(yr_data1['Value'].values[0])\n",
        "      list2.append(yr_data2['Value'].values[0])\n",
        "      list3.append(year)\n",
        "\n",
        "  if list1:\n",
        "    slope,intercept,r_value,p_value,t = stats.linregress(list2,list1)\n",
        "\n",
        "    plot_color(list2,list1,list3,'GDP per capita','meat supply (kg/capita/year)',country)\n",
        "    plot_simple(list3,list1, 'time', 'protein supply',country)\n",
        "    plot_simple(list3,list2, 'time', 'GDP',country)"
      ],
      "execution_count": 0,
      "outputs": []
    },
    {
      "cell_type": "code",
      "metadata": {
        "id": "VR4mxoL8swxM",
        "colab_type": "code",
        "colab": {}
      },
      "source": [
        "def slopes_counter(slopes,pvals):\n",
        "  \"\"\"Treats NaN entries as nonexistant; proportion is from those with data\"\"\"\n",
        "  length = sum(1 for x in slopes if not np.isnan(x))\n",
        "  prop_pos = sum(1 for x in slopes if x > 0) / length # gets proportion\n",
        "  counter = 0\n",
        "  for i in range(0,len(slopes)):\n",
        "    if slopes[i] > 0 and pvals[i]<0.05:\n",
        "      counter = counter + 1\n",
        "\n",
        "  prop_pos_sig = counter / length\n",
        "  return prop_pos, prop_pos_sig"
      ],
      "execution_count": 0,
      "outputs": []
    },
    {
      "cell_type": "code",
      "metadata": {
        "id": "KgveBYz30N6O",
        "colab_type": "code",
        "colab": {}
      },
      "source": [
        "def country_slope_calcs(commodity, GDPtype,yrstart):\n",
        "  \"\"\"for a particular commodity as defined in FAO's data, goes through each country\n",
        "  and regresses the GDP (either full or per capita) versus the protein supply quantity \n",
        "  of that commodity \"\"\"\n",
        "  \n",
        "  country_dict = {}\n",
        "  country_dict = {}\n",
        "\n",
        "  commodity1 = commodity\n",
        "  commodity2 = GDPtype\n",
        "\n",
        "  for country in country_list: \n",
        "    country_ID = df['Country'].str.contains(country)\n",
        "    country_data = df[country_ID] # this seems to grab only the \"true\" values from the above\n",
        "    commodity_data = country_data[country_data['Item'].str.contains(commodity1)]\n",
        "\n",
        "    country_ID = df_gdp['Area'].str.contains(country) # grabs same country from GDP data\n",
        "    country_data = df_gdp[country_ID]\n",
        "    gdp_data = country_data[country_data['Item'].str.contains(commodity2)]\n",
        "\n",
        "    list1 = [] # commodity change\n",
        "    list2 = [] # GDP change\n",
        "    list3 = [] # year\n",
        "    \n",
        "    yearlist = unique(list(commodity_data['Year']))\n",
        "    yearlist = [i for i in yearlist if i>yrstart] # selects only years larger than threshold\n",
        "    for year in yearlist:\n",
        "\n",
        "      if gdp_data['Year'].astype(str).str.contains(str(year)).any(): # if that year exists\n",
        "        yr_data1 = commodity_data[commodity_data['Year'].astype(str).str.contains(str(year))]\n",
        "        yr_data2 = gdp_data[gdp_data['Year'].astype(str).str.contains(str(year))]\n",
        "        list1.append(yr_data1['Value'].values[0])\n",
        "        list2.append(yr_data2['Value'].values[0])\n",
        "        list3.append(year)\n",
        "\n",
        "    if list1:\n",
        "      slope,intercept,r_value,p_value,t = stats.linregress(list2,list1)\n",
        "      country_dict[country] = {'Slope': slope, 'Intercept': intercept, 'r^2': r_value, 'p': p_value}\n",
        "\n",
        "    else:\n",
        "      country_dict[country] = {'Slope': float('nan'), 'Intercept': float('nan'), 'r^2': float('nan'), 'p': float('nan')}\n",
        "  return country_dict"
      ],
      "execution_count": 0,
      "outputs": []
    },
    {
      "cell_type": "code",
      "metadata": {
        "id": "EPxwSPFaG0cV",
        "colab_type": "code",
        "colab": {}
      },
      "source": [
        "# Choose a data source\n",
        "path_other = \"gdrive/My Drive/Colab Notebooks/FAOSTAT_data_6-18-2019.csv\" # milk, poultry\n",
        "path_other = \"gdrive/My Drive/Colab Notebooks/faostat_chixmilk_pc.csv\" # milk, poultry per capita\n",
        "path_meattype = \"gdrive/My Drive/Colab Notebooks/faostat_meattype_kg.csv\" # meat by type\n",
        "path_meatall = \"gdrive/My Drive/Colab Notebooks/faostat_meat_kg.csv\" # meat total\n",
        "path_gdp = \"gdrive/My Drive/Colab Notebooks/FAOSTAT_data_gdp.csv\" # fao gdp data over time\n",
        "path_countrycats = \"gdrive/My Drive/Colab Notebooks/country_classes.csv\"\n",
        "\n",
        "path_fish = 'gdrive/My Drive/Colab Notebooks/TS_FI_AQUACULTURE.csv' # FAO fish stat date\n",
        "path_fish_IDS = 'gdrive/My Drive/Colab Notebooks/CL_FI_SPECIES_GROUPS.csv' # species codes data\n",
        "path_fish_country = 'gdrive/My Drive/Colab Notebooks/aqua_country_codes.csv' # country codes"
      ],
      "execution_count": 0,
      "outputs": []
    },
    {
      "cell_type": "code",
      "metadata": {
        "id": "0jYpd5vJ5H9K",
        "colab_type": "code",
        "colab": {}
      },
      "source": [
        "yearstart = 1950 # choose when to start analysis"
      ],
      "execution_count": 0,
      "outputs": []
    },
    {
      "cell_type": "markdown",
      "metadata": {
        "id": "-HE-6FIux-We",
        "colab_type": "text"
      },
      "source": [
        "# Run all meat version"
      ]
    },
    {
      "cell_type": "code",
      "metadata": {
        "id": "ShsKQUTDGYM1",
        "colab_type": "code",
        "colab": {}
      },
      "source": [
        "# Creates a data frame from the data in 'path' and extracts the countries of interest\n",
        "df = pd.read_csv(path_meatall)\n",
        "df_gdp = pd.read_csv(path_gdp) # loads gdp data\n",
        "country_list = unique(list(df['Country']))"
      ],
      "execution_count": 0,
      "outputs": []
    },
    {
      "cell_type": "code",
      "metadata": {
        "id": "HC44pRkwymbe",
        "colab_type": "code",
        "outputId": "b696c751-95c0-45a0-abe7-472c927916a3",
        "colab": {
          "base_uri": "https://localhost:8080/",
          "height": 88
        }
      },
      "source": [
        "# Runs the analysis and saves the meat version\n",
        "commodity = 'Meat'\n",
        "gdp_type = 'Gross Domestic Product per capita'\n",
        "country_dict = country_slope_calcs(commodity, gdp_type ,yearstart) # capitalization matters!\n",
        "countrydf = pd.DataFrame.from_dict(country_dict, orient = 'index')\n",
        "savepath = 'gdrive/My Drive/Colab Notebooks/' + commodity + '_GDPpc_slopes.csv' # hopefully will always save \n",
        "# to the correct commodity\n",
        "countrydf.to_csv(savepath)"
      ],
      "execution_count": 0,
      "outputs": [
        {
          "output_type": "stream",
          "text": [
            "/usr/local/lib/python3.6/dist-packages/ipykernel_launcher.py:13: UserWarning: This pattern has match groups. To actually get the groups, use str.extract.\n",
            "  del sys.path[0]\n",
            "/usr/local/lib/python3.6/dist-packages/ipykernel_launcher.py:17: UserWarning: This pattern has match groups. To actually get the groups, use str.extract.\n"
          ],
          "name": "stderr"
        }
      ]
    },
    {
      "cell_type": "code",
      "metadata": {
        "id": "W3X9PhqL0YwO",
        "colab_type": "code",
        "colab": {}
      },
      "source": [
        "# plots by country \n",
        "ctry_plot('Belgium',df,df_gdp,commodity)"
      ],
      "execution_count": 0,
      "outputs": []
    },
    {
      "cell_type": "code",
      "metadata": {
        "id": "NtAJO8itHf9O",
        "colab_type": "code",
        "outputId": "0310004f-c033-45e3-910d-746a858f7eac",
        "colab": {
          "base_uri": "https://localhost:8080/",
          "height": 68
        }
      },
      "source": [
        "# Let's run some stats on these GDP / consumption relationships!\n",
        "# Proportion of countries with positive slope:\n",
        "\n",
        "slopes = countrydf.Slope.astype(float) # makes numbers not strings\n",
        "pvals = countrydf.p.astype(float)\n",
        "[pp,sig] = slopes_counter(slopes,pvals)\n",
        "\n",
        "print(commodity)\n",
        "print('Proportion positive:', pp)\n",
        "print('Proportion positive and significant:', sig)"
      ],
      "execution_count": 0,
      "outputs": [
        {
          "output_type": "stream",
          "text": [
            "Meat\n",
            "Proportion positive: 0.8\n",
            "Proportion positive and significant: 0.6971428571428572\n"
          ],
          "name": "stdout"
        }
      ]
    },
    {
      "cell_type": "markdown",
      "metadata": {
        "id": "EDktJvvH0g6i",
        "colab_type": "text"
      },
      "source": [
        "# Run by commodity version"
      ]
    },
    {
      "cell_type": "code",
      "metadata": {
        "id": "lqnyP4EN0laX",
        "colab_type": "code",
        "colab": {}
      },
      "source": [
        "# Creates a data frame from the data in 'path' and extracts the countries of interest\n",
        "df = pd.read_csv(path_meattype)\n",
        "df_gdp = pd.read_csv(path_gdp) # loads gdp data\n",
        "country_list = unique(list(df['Country']))"
      ],
      "execution_count": 0,
      "outputs": []
    },
    {
      "cell_type": "code",
      "metadata": {
        "id": "G-fJr0MB1C6-",
        "colab_type": "code",
        "outputId": "e25d4032-c6b8-44ae-f896-80a0ab544b3c",
        "colab": {
          "base_uri": "https://localhost:8080/",
          "height": 343
        }
      },
      "source": [
        "# Runs the analysis for each commodity\n",
        "commodity_list = unique(list(df['Item']))\n",
        "\n",
        "for commodity in commodity_list:\n",
        "  country_dict = country_slope_calcs(commodity, 'Gross Domestic Product per capita', yearstart) # capitalization matters!\n",
        "  countrydf = pd.DataFrame.from_dict(country_dict, orient = 'index')\n",
        "  savepath = 'gdrive/My Drive/Colab Notebooks/' + commodity + '_GDPpc2002_slopes.csv' # hopefully will always save \n",
        "    # to the correct commodity\n",
        "  countrydf.to_csv(savepath)\n",
        "  \n",
        "  slopes = countrydf.Slope.astype(float) # makes numbers not strings\n",
        "  pvals = countrydf.p.astype(float)\n",
        "  [pp,sig] = slopes_counter(slopes,pvals)\n",
        "\n",
        "  print(commodity)\n",
        "  print('Proportion positive:', pp)\n",
        "  print('Proportion positive and significant:', sig)"
      ],
      "execution_count": 0,
      "outputs": [
        {
          "output_type": "stream",
          "text": [
            "/usr/local/lib/python3.6/dist-packages/ipykernel_launcher.py:13: UserWarning: This pattern has match groups. To actually get the groups, use str.extract.\n",
            "  del sys.path[0]\n",
            "/usr/local/lib/python3.6/dist-packages/ipykernel_launcher.py:17: UserWarning: This pattern has match groups. To actually get the groups, use str.extract.\n"
          ],
          "name": "stderr"
        },
        {
          "output_type": "stream",
          "text": [
            "Bovine Meat\n",
            "Proportion positive: 0.5263157894736842\n",
            "Proportion positive and significant: 0.25146198830409355\n",
            "Mutton & Goat Meat\n",
            "Proportion positive: 0.6140350877192983\n",
            "Proportion positive and significant: 0.29239766081871343\n",
            "Poultry Meat\n",
            "Proportion positive: 0.7543859649122807\n",
            "Proportion positive and significant: 0.4853801169590643\n",
            "Meat, Other\n",
            "Proportion positive: 0.52046783625731\n",
            "Proportion positive and significant: 0.21052631578947367\n",
            "Pigmeat\n",
            "Proportion positive: 0.6204819277108434\n",
            "Proportion positive and significant: 0.3493975903614458\n"
          ],
          "name": "stdout"
        }
      ]
    },
    {
      "cell_type": "markdown",
      "metadata": {
        "id": "u1wu9MFJ3Vq9",
        "colab_type": "text"
      },
      "source": [
        "# Country Grouping by Income Group"
      ]
    },
    {
      "cell_type": "code",
      "metadata": {
        "id": "BB3R5qo86rTy",
        "colab_type": "code",
        "colab": {}
      },
      "source": [
        "## Group countries in regions and calculate aggregate statistics\n",
        "categorydf = pd.read_csv(path_countrycats)"
      ],
      "execution_count": 0,
      "outputs": []
    },
    {
      "cell_type": "code",
      "metadata": {
        "id": "CP-3ZElxVx4d",
        "colab_type": "code",
        "colab": {}
      },
      "source": [
        "# MANUALLY CODED FOR NOW\n",
        "meat_path = 'gdrive/My Drive/Colab Notebooks/Meat_GDPpc2002_slopes.csv'\n",
        "bovine_path = 'gdrive/My Drive/Colab Notebooks/Bovine Meat_GDPpc2002_slopes.csv'\n",
        "mutton_path = 'gdrive/My Drive/Colab Notebooks/Mutton & Goat Meat_GDPpc2002_slopes.csv'\n",
        "poultry_path = 'gdrive/My Drive/Colab Notebooks/Poultry Meat_GDPpc2002_slopes.csv'\n",
        "pig_path = 'gdrive/My Drive/Colab Notebooks/Pigmeat_GDPpc2002_slopes.csv'"
      ],
      "execution_count": 0,
      "outputs": []
    },
    {
      "cell_type": "code",
      "metadata": {
        "id": "qkeFnsXMU6sD",
        "colab_type": "code",
        "colab": {}
      },
      "source": [
        "income_groups = unique(categorydf['Income group'])\n",
        "income_groups.remove('x') # removes a spurious 'x' category"
      ],
      "execution_count": 0,
      "outputs": []
    },
    {
      "cell_type": "code",
      "metadata": {
        "id": "5aYFzHkWVPUr",
        "colab_type": "code",
        "colab": {}
      },
      "source": [
        "import csv\n",
        "path_list = {'meat': meat_path, 'bovine': bovine_path, 'mutton': mutton_path, \n",
        "             'poultry': poultry_path, 'pig': pig_path}\n",
        "income_dict = {}\n",
        "\n",
        "for group in income_groups: \n",
        "  ctrydf = categorydf[categorydf['Income group'].str.contains(group)]\n",
        "  ctry_list = list(ctrydf.Economy) # gets list of countries within that income group\n",
        "  \n",
        "  \n",
        "  dict_temp = {}\n",
        "  for element in path_list:\n",
        "    with open(path_list[element]) as csvfile: # opens the file associated with each meat\n",
        "      csv_reader = csv.reader(csvfile, delimiter=',')\n",
        "      header = next(csv_reader)\n",
        "      header[0] = 'Country' # hard-coded!\n",
        "      \n",
        "      data_temp = [] # temporary storage for data\n",
        "      for row in csv_reader: \n",
        "        if row[0] in ctry_list:\n",
        "          data_temp.append(row) # add in that data\n",
        "    \n",
        "    groupdf = pd.DataFrame.from_records(data_temp, columns = header) # makes a dataframe of the csv\n",
        "        # only for the countries in that income group\n",
        "    slopes = list(groupdf['Slope'])\n",
        "    slopes = [float(x) for x in slopes if x]\n",
        "  \n",
        "    pvals = list(groupdf['p'])\n",
        "    pvals = [float(x) for x in pvals if x]\n",
        "\n",
        "    #prop_pos = sum(1 for x in slopes if x > 0) / len(slopes)\n",
        "    [prop_pos,prop_pos_sign] = slopes_counter(slopes,pvals)\n",
        "    slope_mean = np.nanmean(slopes)\n",
        "    \n",
        "    dict_temp.update({element: {'pp': prop_pos, 'sig': prop_pos_sign, 'mean': slope_mean}})\n",
        "\n",
        "  income_dict[group] = dict_temp\n",
        "        \n",
        "        \n",
        "    "
      ],
      "execution_count": 0,
      "outputs": []
    },
    {
      "cell_type": "code",
      "metadata": {
        "id": "sqH-nA1zVR5E",
        "colab_type": "code",
        "colab": {}
      },
      "source": [
        "income_gdpmeat = pd.DataFrame.from_dict(income_dict)\n",
        "income_gdpmeat.to_csv('gdrive/My Drive/Colab Notebooks/trends_by_incomepc2002.csv')\n"
      ],
      "execution_count": 0,
      "outputs": []
    },
    {
      "cell_type": "code",
      "metadata": {
        "id": "KGWhvFRJVdLx",
        "colab_type": "code",
        "colab": {}
      },
      "source": [
        "income_dict"
      ],
      "execution_count": 0,
      "outputs": []
    },
    {
      "cell_type": "markdown",
      "metadata": {
        "id": "yqSm_rVgrhmp",
        "colab_type": "text"
      },
      "source": [
        "# Food transformations analysis"
      ]
    },
    {
      "cell_type": "code",
      "metadata": {
        "id": "PsnpZBNerkNh",
        "colab_type": "code",
        "colab": {}
      },
      "source": [
        "# Creates a data frame from the data in 'path' and extracts the countries of interest\n",
        "df = pd.read_csv(path_other)\n",
        "df_gdp = pd.read_csv(path_gdp) # loads gdp data\n",
        "country_list = unique(list(df['Country']))"
      ],
      "execution_count": 0,
      "outputs": []
    },
    {
      "cell_type": "code",
      "metadata": {
        "id": "vHcvO-xSrzID",
        "colab_type": "code",
        "outputId": "7bdbf0a1-4cf5-4528-de69-49e489f737cb",
        "colab": {
          "base_uri": "https://localhost:8080/",
          "height": 35
        }
      },
      "source": [
        "unique(list(df['Item']))"
      ],
      "execution_count": 0,
      "outputs": [
        {
          "output_type": "execute_result",
          "data": {
            "text/plain": [
              "['Poultry Meat', 'Milk - Excluding Butter']"
            ]
          },
          "metadata": {
            "tags": []
          },
          "execution_count": 12
        }
      ]
    },
    {
      "cell_type": "code",
      "metadata": {
        "id": "3wAKAdAYrq0p",
        "colab_type": "code",
        "outputId": "809857e7-844b-43d5-e690-802578cc47f3",
        "colab": {
          "base_uri": "https://localhost:8080/",
          "height": 146
        }
      },
      "source": [
        "# Runs the analysis for each commodity\n",
        "commodity_list = unique(list(df['Item']))\n",
        "for commodity in commodity_list:\n",
        "  country_dict = {}\n",
        "  for country in country_list: \n",
        "  \n",
        "    country_ID = df['Country'].str.contains(country)\n",
        "    country_data = df[country_ID] # this seems to grab only the \"true\" values from the above\n",
        "    commodity_data = country_data[country_data['Item'].str.contains(commodity)]\n",
        "    \n",
        "    temp_dict = country_all_analysis(commodity_data, 'Food supply')\n",
        "    country_dict[country] = temp_dict\n",
        "\n",
        "    #print(country_dict)\n",
        "    #break\n",
        "  countrydf = pd.DataFrame.from_dict(country_dict, orient = 'index')\n",
        "\n",
        "  savepath = 'gdrive/My Drive/Colab Notebooks/' + commodity + 'supp_ft.csv' # hopefully will always save \n",
        "      # to the correct commodity\n",
        "  countrydf.to_csv(savepath)\n",
        "  print([commodity, 'run'])\n",
        "  \n",
        "  "
      ],
      "execution_count": 0,
      "outputs": [
        {
          "output_type": "stream",
          "text": [
            "/usr/local/lib/python3.6/dist-packages/ipykernel_launcher.py:6: UserWarning: This pattern has match groups. To actually get the groups, use str.extract.\n",
            "  \n"
          ],
          "name": "stderr"
        },
        {
          "output_type": "stream",
          "text": [
            "['Poultry Meat', 'run']\n"
          ],
          "name": "stdout"
        },
        {
          "output_type": "stream",
          "text": [
            "/usr/local/lib/python3.6/dist-packages/ipykernel_launcher.py:6: UserWarning: This pattern has match groups. To actually get the groups, use str.extract.\n",
            "  \n"
          ],
          "name": "stderr"
        },
        {
          "output_type": "stream",
          "text": [
            "['Milk - Excluding Butter', 'run']\n"
          ],
          "name": "stdout"
        }
      ]
    },
    {
      "cell_type": "code",
      "metadata": {
        "id": "0Wcr-UTvaOFc",
        "colab_type": "code",
        "outputId": "0f1006a1-d547-4604-9aa1-8000db841558",
        "colab": {
          "base_uri": "https://localhost:8080/",
          "height": 88
        }
      },
      "source": [
        "# runs the vs. GDP analysis\n",
        "commodity = 'Milk - Excluding Butter'\n",
        "gdp_type = 'Gross Domestic Product per capita'\n",
        "country_dict = country_slope_calcs(commodity, gdp_type ,yearstart) # capitalization matters!\n",
        "countrydf = pd.DataFrame.from_dict(country_dict, orient = 'index')"
      ],
      "execution_count": 0,
      "outputs": [
        {
          "output_type": "stream",
          "text": [
            "/usr/local/lib/python3.6/dist-packages/ipykernel_launcher.py:13: UserWarning: This pattern has match groups. To actually get the groups, use str.extract.\n",
            "  del sys.path[0]\n",
            "/usr/local/lib/python3.6/dist-packages/ipykernel_launcher.py:17: UserWarning: This pattern has match groups. To actually get the groups, use str.extract.\n"
          ],
          "name": "stderr"
        }
      ]
    },
    {
      "cell_type": "code",
      "metadata": {
        "id": "Mjx-aQdlaWDc",
        "colab_type": "code",
        "outputId": "10e8dc48-13a5-4250-b948-0ab026b3b5e8",
        "colab": {
          "base_uri": "https://localhost:8080/",
          "height": 164
        }
      },
      "source": [
        "# plots by country \n",
        "ctry_plot('Brazil',df,df_gdp,commodity)"
      ],
      "execution_count": 0,
      "outputs": [
        {
          "output_type": "error",
          "ename": "NameError",
          "evalue": "ignored",
          "traceback": [
            "\u001b[0;31m---------------------------------------------------------------------------\u001b[0m",
            "\u001b[0;31mNameError\u001b[0m                                 Traceback (most recent call last)",
            "\u001b[0;32m<ipython-input-10-be99bf26b57c>\u001b[0m in \u001b[0;36m<module>\u001b[0;34m()\u001b[0m\n\u001b[0;32m----> 1\u001b[0;31m \u001b[0mctry_plot\u001b[0m\u001b[0;34m(\u001b[0m\u001b[0;34m'Brazil'\u001b[0m\u001b[0;34m,\u001b[0m\u001b[0mdf\u001b[0m\u001b[0;34m,\u001b[0m\u001b[0mdf_gdp\u001b[0m\u001b[0;34m,\u001b[0m\u001b[0mcommodity\u001b[0m\u001b[0;34m)\u001b[0m\u001b[0;34m\u001b[0m\u001b[0;34m\u001b[0m\u001b[0m\n\u001b[0m",
            "\u001b[0;31mNameError\u001b[0m: name 'df' is not defined"
          ]
        }
      ]
    },
    {
      "cell_type": "markdown",
      "metadata": {
        "id": "fbQIsv_3iDRm",
        "colab_type": "text"
      },
      "source": [
        "# Fish data analysis"
      ]
    },
    {
      "cell_type": "code",
      "metadata": {
        "id": "ieoii3abiIki",
        "colab_type": "code",
        "colab": {}
      },
      "source": [
        "import csv"
      ],
      "execution_count": 0,
      "outputs": []
    },
    {
      "cell_type": "code",
      "metadata": {
        "id": "_6BsDqG9su_o",
        "colab_type": "code",
        "colab": {}
      },
      "source": [
        "# load appropriate species names; need the 3 letter codes for each\n",
        "with open (path_fish_IDS,'r') as csvfile:\n",
        "  csv_reader = csv.reader(csvfile, delimiter=',')\n",
        "  header = next(csv_reader)\n",
        "  \n",
        "  idx_family = header.index('Family') # grabs the location of the info we want in the header\n",
        "  idx_code = header.index('3Alpha_Code')\n",
        "  idx_name = header.index('Name_En')\n",
        "  \n",
        "  spp_header = ['Name', 'Code', 'Family']\n",
        "  salmon_data = []\n",
        "  cichlid_data = []\n",
        "  Scode_only = []\n",
        "  Ccode_only = []\n",
        "  \n",
        "  desired_family = ['SALMONIDAE', 'CICHLIDAE']\n",
        "  for row in csv_reader:\n",
        "    if (desired_family[0]) in row[idx_family]:\n",
        "      salmon_data.append([row[idx_name], row[idx_code], row[idx_family]])\n",
        "      Scode_only.append(row[idx_code])\n",
        "    if (desired_family[1]) in row[idx_family]:\n",
        "      cichlid_data.append([row[idx_name], row[idx_code], row[idx_family]])\n",
        "      Ccode_only.append(row[idx_code])\n",
        "# spp_data contains the codes for the species we're interested in\n",
        "# spp_header has the header for this data\n",
        "# idx_only just has the codes for ease of access\n"
      ],
      "execution_count": 0,
      "outputs": []
    },
    {
      "cell_type": "code",
      "metadata": {
        "id": "8HI7R3qxiWFg",
        "colab_type": "code",
        "colab": {}
      },
      "source": [
        "# loads the species we care about from the database\n",
        "with open(path_fish,'r') as csv_file:\n",
        "  csv_reader = csv.reader(csv_file, delimiter=',')\n",
        "  header = next(csv_reader)\n",
        "  \n",
        "  idx_species = header.index('SPECIES')\n",
        "  idx_country = header.index('COUNTRY')\n",
        "  idx_yr = header.index('YEAR')\n",
        "  idx_unit = header.index('QUANTITY_UNIT')\n",
        "  idx_quant = header.index('QUANTITY')\n",
        "  \n",
        "  aqua_header = [header[idx_species], header[idx_country], header[idx_yr], header[idx_unit], header[idx_quant]]\n",
        "  Saqua_data = []\n",
        "  Caqua_data = []\n",
        "  for row in csv_reader:\n",
        "    if row[idx_species] in Scode_only:\n",
        "      Saqua_data.append([row[idx_species], row[idx_country], row[idx_yr], row[idx_unit], row[idx_quant]])\n",
        "    if row[idx_species] in Ccode_only:\n",
        "      Caqua_data.append([row[idx_species], row[idx_country], row[idx_yr], row[idx_unit], row[idx_quant]])"
      ],
      "execution_count": 0,
      "outputs": []
    },
    {
      "cell_type": "code",
      "metadata": {
        "id": "jE0m1jdJswlQ",
        "colab_type": "code",
        "colab": {}
      },
      "source": [
        "  # identifies where in the header each data type occurs\n",
        "  idx_speciesN = aqua_header.index('SPECIES')\n",
        "  idx_countryN = aqua_header.index('COUNTRY')\n",
        "  idx_yrN = aqua_header.index('YEAR')\n",
        "  idx_unitN = aqua_header.index('QUANTITY_UNIT')\n",
        "  idx_quantN = aqua_header.index('QUANTITY')\n",
        "  "
      ],
      "execution_count": 0,
      "outputs": []
    },
    {
      "cell_type": "code",
      "metadata": {
        "id": "AKly8ZIuKNYn",
        "colab_type": "code",
        "colab": {}
      },
      "source": [
        "## Gets the name of each country associated with the numeric codes\n",
        "with open(path_fish_country,'r') as csv_file:\n",
        "  csv_reader = csv.reader(csv_file,delimiter=',')\n",
        "  \n",
        "  ctry_dict = {}\n",
        "  \n",
        "  for row in csv_reader:\n",
        "    ctry_dict[row[0]] = row[4] # assigns name as the entry for key as number\n",
        "  "
      ],
      "execution_count": 0,
      "outputs": []
    },
    {
      "cell_type": "code",
      "metadata": {
        "id": "Qsl7f7CxiPr_",
        "colab_type": "code",
        "colab": {}
      },
      "source": [
        "# re-organize data into {country: {date: x, total amount of species in desired family: y}}\n",
        "# Caqua_data_merge is the final dictionary for combined Cichlid species\n",
        "\n",
        "Caqua_data_merge =  {} #{'0': {'years': [0], 'amounts': [0]}} # defines data structure\n",
        "\n",
        "for row in Caqua_data: \n",
        "\n",
        "  if row[idx_countryN] in Caqua_data_merge: # if the country HAS appeared before\n",
        "    # if the year has appeared before: (add species totals)\n",
        "    if row[idx_yrN] in Caqua_data_merge[row[idx_countryN]]['years']:\n",
        "      # find the index of the year we care about\n",
        "      idx_yr = Caqua_data_merge[row[idx_countryN]]['years'].index(row[idx_yrN])\n",
        "      yr_val = Caqua_data_merge[row[idx_countryN]]['amts'][idx_yr]\n",
        "      Caqua_data_merge[row[idx_countryN]]['amts'][idx_yr] = yr_val + float(row[idx_quantN])\n",
        "\n",
        "    # if the year hasn't appeared before: (new year)\n",
        "    else:\n",
        "      Caqua_data_merge[row[idx_countryN]]['years'].append(row[idx_yrN])\n",
        "      Caqua_data_merge[row[idx_countryN]]['amts'].append(float(row[idx_quantN]))\n",
        "      \n",
        "      \n",
        "  else: # add new row if the country hasn't appeared before\n",
        "\n",
        "    ctry_name = ctry_dict[str(int(row[idx_countryN]))] # gets the associated country name\n",
        "    #str(int()) necessary because digits less than 3 (e.g. 44) imported a 0 at the front\n",
        "\n",
        "    temp_dict = {'years': [row[idx_yrN]], 'amts': [float(row[idx_quantN])], 'name': ctry_name}\n",
        "    Caqua_data_merge[row[idx_countryN]] = temp_dict\n"
      ],
      "execution_count": 0,
      "outputs": []
    },
    {
      "cell_type": "code",
      "metadata": {
        "id": "qwL97mIqI6hb",
        "colab_type": "code",
        "colab": {}
      },
      "source": [
        "# re-organize these data BACK into a csv type format for export\n",
        "cichlid_export = []\n",
        "for entry in Caqua_data_merge:\n",
        "  total_length = len(Caqua_data_merge[entry]['amts']) # gets number of year / amts combos\n",
        "  for i in range(0, total_length):\n",
        "    row = [Caqua_data_merge[entry]['name'], Caqua_data_merge[entry]['years'][i],\n",
        "          Caqua_data_merge[entry]['amts'][i]]\n",
        "    cichlid_export.append(row)\n",
        "  \n",
        "cichliddf = pd.DataFrame(cichlid_export, columns = ['name', 'yr', 'amt'])\n",
        "savepath = 'gdrive/My Drive/Colab Notebooks/' + 'cichlids' + 'all.csv' # hopefully will always save \n",
        "      # to the correct commodity\n",
        "cichliddf.to_csv(savepath)"
      ],
      "execution_count": 0,
      "outputs": []
    },
    {
      "cell_type": "code",
      "metadata": {
        "id": "XCTdq2P1iZUd",
        "colab_type": "code",
        "outputId": "68f41178-e098-4350-cd76-d1876a428cae",
        "colab": {
          "base_uri": "https://localhost:8080/",
          "height": 130
        }
      },
      "source": [
        "## By country analysis of 3 most common tilapia species: Oreochromis niloticus, mossambicus,\n",
        "# and aureus\n",
        "\n",
        "# find the codes of those species\n",
        "spp_of_interest = ['Oreochromis niloticus', 'Oreochromis mossambicus', 'Oreochromis aureus']\n",
        "\n",
        "with open (path_fish_IDS,'r') as csvfile:\n",
        "  csv_reader = csv.reader(csvfile, delimiter=',')\n",
        "  header = next(csv_reader)\n",
        "  \n",
        "  idx_spp = header.index('Scientific_Name') # grabs the location of the info we want in the header\n",
        "  idx_code = header.index('3Alpha_Code')\n",
        "  idx_name = header.index('Name_En')\n",
        " \n",
        "  spp_dict = {}\n",
        "  for row in csv_reader:\n",
        "    for element in spp_of_interest:\n",
        "      if element in row[idx_spp]:\n",
        "        spp_dict[element] = row[idx_code]\n",
        "\n",
        "\n"
      ],
      "execution_count": 0,
      "outputs": [
        {
          "output_type": "error",
          "ename": "SyntaxError",
          "evalue": "ignored",
          "traceback": [
            "\u001b[0;36m  File \u001b[0;32m\"<ipython-input-52-bf20b968ebc0>\"\u001b[0;36m, line \u001b[0;32m7\u001b[0m\n\u001b[0;31m    break\u001b[0m\n\u001b[0m    ^\u001b[0m\n\u001b[0;31mSyntaxError\u001b[0m\u001b[0;31m:\u001b[0m 'break' outside loop\n"
          ]
        }
      ]
    },
    {
      "cell_type": "code",
      "metadata": {
        "id": "gRPQwwq1dnxZ",
        "colab_type": "code",
        "outputId": "fa4c7a2d-c992-42d8-a872-757fe84fe6e8",
        "colab": {
          "base_uri": "https://localhost:8080/",
          "height": 34
        }
      },
      "source": [
        "# loads the species we care about from the database; pulls codes from spp_dict\n",
        "spp_codes = spp_dict.values()\n",
        "\n",
        "with open(path_fish,'r') as csv_file:\n",
        "  csv_reader = csv.reader(csv_file, delimiter=',')\n",
        "  header = next(csv_reader)\n",
        "  \n",
        "  idx_species = header.index('SPECIES')\n",
        "  idx_country = header.index('COUNTRY')\n",
        "  idx_yr = header.index('YEAR')\n",
        "  idx_unit = header.index('QUANTITY_UNIT')\n",
        "  idx_quant = header.index('QUANTITY')\n",
        "  \n",
        "  aqua_header = ['Country', 'Year', spp_of_interest[0] + 'amt', \n",
        "                 spp_of_interest[1] + 'amt', spp_of_interest[2] + 'amt']\n",
        "  Caqua_data = []\n",
        "  for row in csv_reader:\n",
        "    print(row[idx_species])\n",
        "    break\n",
        "    if row[idx_species] in spp_of_interest:\n",
        "      Caqua_data.append([row[idx_species], row[idx_country], row[idx_yr], row[idx_unit], row[idx_quant]])\n"
      ],
      "execution_count": 0,
      "outputs": [
        {
          "output_type": "stream",
          "text": [
            "MZZ\n"
          ],
          "name": "stdout"
        }
      ]
    },
    {
      "cell_type": "code",
      "metadata": {
        "id": "0CH6lbRKidLb",
        "colab_type": "code",
        "outputId": "3272fe3f-acbd-4757-8e23-c576b9cdbd00",
        "colab": {
          "base_uri": "https://localhost:8080/",
          "height": 68
        }
      },
      "source": [
        "spp_dict"
      ],
      "execution_count": 0,
      "outputs": [
        {
          "output_type": "execute_result",
          "data": {
            "text/plain": [
              "{'Oreochromis aureus': 'OXW',\n",
              " 'Oreochromis mossambicus': 'TLM',\n",
              " 'Oreochromis niloticus': 'TLN'}"
            ]
          },
          "metadata": {
            "tags": []
          },
          "execution_count": 62
        }
      ]
    },
    {
      "cell_type": "code",
      "metadata": {
        "id": "dIo0Lok0nE3i",
        "colab_type": "code",
        "colab": {}
      },
      "source": [
        "temp['158']['years'] = [1967, 1970]"
      ],
      "execution_count": 0,
      "outputs": []
    },
    {
      "cell_type": "code",
      "metadata": {
        "id": "DT_QTIgWnMLV",
        "colab_type": "code",
        "outputId": "b1b0ba91-9ea8-408f-c202-6b0c5690cef6",
        "colab": {
          "base_uri": "https://localhost:8080/",
          "height": 34
        }
      },
      "source": [
        "temp"
      ],
      "execution_count": 0,
      "outputs": [
        {
          "output_type": "execute_result",
          "data": {
            "text/plain": [
              "{'158': {'amts': 2027.0, 'years': [1967, 1970]}}"
            ]
          },
          "metadata": {
            "tags": []
          },
          "execution_count": 43
        }
      ]
    },
    {
      "cell_type": "code",
      "metadata": {
        "id": "WQTZsmWinMnc",
        "colab_type": "code",
        "outputId": "d806aad5-e777-42d1-c793-dedbfc828fee",
        "colab": {
          "base_uri": "https://localhost:8080/",
          "height": 34
        }
      },
      "source": [
        "temp['158']['years']"
      ],
      "execution_count": 0,
      "outputs": [
        {
          "output_type": "execute_result",
          "data": {
            "text/plain": [
              "[1967, 1970]"
            ]
          },
          "metadata": {
            "tags": []
          },
          "execution_count": 44
        }
      ]
    },
    {
      "cell_type": "code",
      "metadata": {
        "id": "zF7hdU4rnVza",
        "colab_type": "code",
        "outputId": "5028a936-6897-4d24-b801-0416c387b6ed",
        "colab": {
          "base_uri": "https://localhost:8080/",
          "height": 34
        }
      },
      "source": [
        "temp['158']['years'].index(1970)"
      ],
      "execution_count": 0,
      "outputs": [
        {
          "output_type": "execute_result",
          "data": {
            "text/plain": [
              "1"
            ]
          },
          "metadata": {
            "tags": []
          },
          "execution_count": 46
        }
      ]
    },
    {
      "cell_type": "code",
      "metadata": {
        "id": "Mtmed6t0n6jz",
        "colab_type": "code",
        "colab": {}
      },
      "source": [
        ""
      ],
      "execution_count": 0,
      "outputs": []
    }
  ]
}