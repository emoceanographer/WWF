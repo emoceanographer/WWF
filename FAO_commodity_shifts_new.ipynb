{
  "nbformat": 4,
  "nbformat_minor": 0,
  "metadata": {
    "colab": {
      "name": "FAO_commodity_shifts_new.ipynb",
      "version": "0.3.2",
      "provenance": [],
      "collapsed_sections": [],
      "include_colab_link": true
    },
    "kernelspec": {
      "name": "python3",
      "display_name": "Python 3"
    }
  },
  "cells": [
    {
      "cell_type": "markdown",
      "metadata": {
        "id": "view-in-github",
        "colab_type": "text"
      },
      "source": [
        "<a href=\"https://colab.research.google.com/github/emoceanographer/WWF/blob/master/FAO_commodity_shifts_new.ipynb\" target=\"_parent\"><img src=\"https://colab.research.google.com/assets/colab-badge.svg\" alt=\"Open In Colab\"/></a>"
      ]
    },
    {
      "cell_type": "code",
      "metadata": {
        "id": "d7kQqlwgFIBn",
        "colab_type": "code",
        "outputId": "8bd7d70e-5341-4943-b958-ab96e6bbb08b",
        "colab": {
          "base_uri": "https://localhost:8080/",
          "height": 54
        }
      },
      "source": [
        "from google.colab import drive\n",
        "drive.mount('/content/gdrive')"
      ],
      "execution_count": 243,
      "outputs": [
        {
          "output_type": "stream",
          "text": [
            "Drive already mounted at /content/gdrive; to attempt to forcibly remount, call drive.mount(\"/content/gdrive\", force_remount=True).\n"
          ],
          "name": "stdout"
        }
      ]
    },
    {
      "cell_type": "code",
      "metadata": {
        "id": "nxiy7r-bFgMV",
        "colab_type": "code",
        "colab": {}
      },
      "source": [
        "import pandas as pd\n",
        "from scipy import stats\n",
        "import numpy as np\n"
      ],
      "execution_count": 0,
      "outputs": []
    },
    {
      "cell_type": "code",
      "metadata": {
        "id": "sZSZgz8ZFiCL",
        "colab_type": "code",
        "colab": {}
      },
      "source": [
        "def unique(long_list):\n",
        "  unique_list = []\n",
        "  for element in long_list: \n",
        "    if element not in unique_list:\n",
        "      unique_list.append(element)\n",
        "  return unique_list\n",
        "\n",
        "def max_change(value,year):\n",
        "  max_value = max(value)\n",
        "  max_index = value.index(max_value)\n",
        "  return([max_value, year[max_index]])\n",
        "\n",
        "def change_calc(value,year_offset):\n",
        "  \"\"\"Calculates the difference between elements 'year_offset' apart within a list\"\"\"\n",
        "  change_value = []\n",
        "  for i in range(year_offset,len(value)): \n",
        "    change_value.append(value[i] - value[i-year_offset])\n",
        "  return change_value\n",
        "\n",
        "def fv_mean(listA):\n",
        "  output = []\n",
        "  listA = list(listA)\n",
        "  for item in listA:\n",
        "    if len(item)>0:\n",
        "      output.append(item[0])\n",
        "  if len(output)>0:\n",
        "    mean_output = stat.mean(output)\n",
        "  else:\n",
        "    mean_output = output\n",
        "  return mean_output"
      ],
      "execution_count": 0,
      "outputs": []
    },
    {
      "cell_type": "code",
      "metadata": {
        "id": "MPXusL4IFw-C",
        "colab_type": "code",
        "colab": {}
      },
      "source": [
        "def country_all_analysis(country_df, domain):\n",
        "  \"\"\"Country data frame is expecting an FAO data set for a country; 'domain'\n",
        "  should be the \"element\" we are interested in\"\"\"\n",
        "  \n",
        "  if country_df['Element'].str.contains(domain).any():\n",
        "    data = country_df[country_df['Element'].str.contains(domain)]\n",
        "\n",
        "    slope,t,t,t,t = stats.linregress(data['Year'], data['Value'])\n",
        "    value = list(data['Value'])\n",
        "\n",
        "    change_1yr = change_calc(value,1)\n",
        "    max_1yr = max_change(change_1yr, list(data['Year'][1:]))\n",
        "    change_5yr = change_calc(value,5) \n",
        "    max_5yr = max_change(change_5yr, list(data['Year'][5:]))\n",
        "\n",
        "    output = {'Slope'+'_'+domain: slope, 'Delta1yr'+'_'+domain: max_1yr, 'Delta5yr'+'_'+domain: max_5yr }\n",
        "  else:\n",
        "    output = {'Slope'+'_'+domain: [], 'Delta1yr'+'_'+domain: [], 'Delta5yr'+'_'+domain: [] }\n",
        "  return output"
      ],
      "execution_count": 0,
      "outputs": []
    },
    {
      "cell_type": "code",
      "metadata": {
        "id": "XePeQwUoWPWm",
        "colab_type": "code",
        "colab": {}
      },
      "source": [
        "import matplotlib.pyplot as plt\n",
        "from matplotlib import cm\n",
        "from matplotlib.colors import ListedColormap, LinearSegmentedColormap\n",
        "rainbow = cm.get_cmap('rainbow',12)\n",
        "\n",
        "def plot_color(x,y,t,x_label,y_label,title):\n",
        "  \"\"\"Plots x vs y with colors set by t; labels also entered as inputs\"\"\"\n",
        "  fig = plt.figure(figsize = (8,8))\n",
        "  ax = fig.add_subplot(1,1,1) \n",
        "  ax.set_xlabel(x_label, fontsize = 15)\n",
        "  ax.set_ylabel(y_label, fontsize = 15) # grab units from sheet\n",
        "  ax.set_title(title, fontsize = 20) \n",
        "  # grab the country name and commodity from the data\n",
        "  \n",
        "  #rainbow = cm.get_cmap('rainbow',len(t))\n",
        "  #for i in range(0,len(x)): # goes through each element\n",
        "   # ax.scatter(x[i], y[i], c = rainbow[i])\n",
        "  plt.scatter(x, y, c = t, cmap = 'rainbow')\n",
        "  plt.show()\n",
        "  \n",
        "def plot_simple(x,y,x_label, y_label, title): \n",
        "  fig = plt.figure(figsize = (4,4))\n",
        "  ax = fig.add_subplot(1,1,1) \n",
        "  ax.set_xlabel(x_label, fontsize = 10)\n",
        "  ax.set_ylabel(y_label, fontsize = 10) # grab units from sheet\n",
        "  ax.set_title(title, fontsize = 10) \n",
        "  \n",
        "  plt.scatter(x,y)\n",
        "  plt.show()\n",
        "  \n",
        "# plots, if desired\n",
        "def ctry_plot(country,df,df_gdp):\n",
        "  country_ID = df['Country'].str.contains(country)\n",
        "  country_data = df[country_ID] # this seems to grab only the \"true\" values from the above\n",
        "  commodity_data = country_data[country_data['Item'].str.contains(commodity1)]\n",
        "\n",
        "  country_ID = df_gdp['Area'].str.contains(country) # grabs same country from GDP data\n",
        "  country_data = df_gdp[country_ID]\n",
        "  gdp_data = country_data[country_data['Item'].str.contains(commodity2)]\n",
        "\n",
        "  list1 = [] # commodity change\n",
        "  list2 = [] # GDP change\n",
        "  list3 = [] # year\n",
        "  for year in unique(list(commodity_data['Year'])):\n",
        "\n",
        "    if gdp_data['Year'].astype(str).str.contains(str(year)).any(): # if that year exists\n",
        "      yr_data1 = commodity_data[commodity_data['Year'].astype(str).str.contains(str(year))]\n",
        "      yr_data2 = gdp_data[gdp_data['Year'].astype(str).str.contains(str(year))]\n",
        "      list1.append(yr_data1['Value'].values[0])\n",
        "      list2.append(yr_data2['Value'].values[0])\n",
        "      list3.append(year)\n",
        "\n",
        "  if list1:\n",
        "    slope,intercept,r_value,p_value,t = stats.linregress(list2,list1)\n",
        "\n",
        "    plot_color(list2,list1,list3,'GDP','protein supply (g/capita/day)',country)\n",
        "    plot_simple(list3,list1, 'time', 'protein supply',country)\n",
        "    plot_simple(list3,list2, 'time', 'GDP',country)"
      ],
      "execution_count": 0,
      "outputs": []
    },
    {
      "cell_type": "code",
      "metadata": {
        "id": "VR4mxoL8swxM",
        "colab_type": "code",
        "colab": {}
      },
      "source": [
        "def slopes_counter(slopes,pvals):\n",
        "  \"\"\"Treats NaN entries as nonexistant; proportion is from those with data\"\"\"\n",
        "  length = sum(1 for x in slopes if not np.isnan(x))\n",
        "  prop_pos = sum(1 for x in slopes if x > 0) / length # gets proportion\n",
        "  counter = 0\n",
        "  for i in range(0,len(slopes)):\n",
        "    if slopes[i] > 0 and pvals[i]<0.05:\n",
        "      counter = counter + 1\n",
        "\n",
        "  prop_pos_sig = counter / length\n",
        "  return prop_pos, prop_pos_sig"
      ],
      "execution_count": 0,
      "outputs": []
    },
    {
      "cell_type": "code",
      "metadata": {
        "id": "KgveBYz30N6O",
        "colab_type": "code",
        "colab": {}
      },
      "source": [
        "def country_slope_calcs(commodity, GDPtype):\n",
        "  \"\"\"for a particular commodity as defined in FAO's data, goes through each country\n",
        "  and regresses the GDP (either full or per capita) versus the protein supply quantity \n",
        "  of that commodity \"\"\"\n",
        "  \n",
        "  country_dict = {}\n",
        "  country_dict = {}\n",
        "\n",
        "  commodity1 = commodity\n",
        "  commodity2 = GDPtype\n",
        "\n",
        "  for country in country_list: \n",
        "    country_ID = df['Country'].str.contains(country)\n",
        "    country_data = df[country_ID] # this seems to grab only the \"true\" values from the above\n",
        "    commodity_data = country_data[country_data['Item'].str.contains(commodity1)]\n",
        "\n",
        "    country_ID = df_gdp['Area'].str.contains(country) # grabs same country from GDP data\n",
        "    country_data = df_gdp[country_ID]\n",
        "    gdp_data = country_data[country_data['Item'].str.contains(commodity2)]\n",
        "\n",
        "    list1 = [] # commodity change\n",
        "    list2 = [] # GDP change\n",
        "    list3 = [] # year\n",
        "    for year in unique(list(commodity_data['Year'])):\n",
        "\n",
        "      if gdp_data['Year'].astype(str).str.contains(str(year)).any(): # if that year exists\n",
        "        yr_data1 = commodity_data[commodity_data['Year'].astype(str).str.contains(str(year))]\n",
        "        yr_data2 = gdp_data[gdp_data['Year'].astype(str).str.contains(str(year))]\n",
        "        list1.append(yr_data1['Value'].values[0])\n",
        "        list2.append(yr_data2['Value'].values[0])\n",
        "        list3.append(year)\n",
        "\n",
        "    if list1:\n",
        "      slope,intercept,r_value,p_value,t = stats.linregress(list2,list1)\n",
        "      country_dict[country] = {'Slope': slope, 'Intercept': intercept, 'r^2': r_value, 'p': p_value}\n",
        "\n",
        "    else:\n",
        "      country_dict[country] = {'Slope': float('nan'), 'Intercept': float('nan'), 'r^2': float('nan'), 'p': float('nan')}\n",
        "  return country_dict"
      ],
      "execution_count": 0,
      "outputs": []
    },
    {
      "cell_type": "code",
      "metadata": {
        "id": "EPxwSPFaG0cV",
        "colab_type": "code",
        "colab": {}
      },
      "source": [
        "# Choose a data source\n",
        "path = \"gdrive/My Drive/Colab Notebooks/FAOSTAT_data_6-18-2019.csv\" # milk, poultry\n",
        "path_meattype = \"gdrive/My Drive/Colab Notebooks/FAOSTAT_data_7-1-2019.csv\" # meat by type\n",
        "path_meatall = \"gdrive/My Drive/Colab Notebooks/FAOSTAT_data_meat.csv\" # meat total\n",
        "path_gdp = \"gdrive/My Drive/Colab Notebooks/FAOSTAT_data_gdp.csv\" # fao gdp data over time\n",
        "path_countrycats = \"gdrive/My Drive/Colab Notebooks/country_classes.csv\""
      ],
      "execution_count": 0,
      "outputs": []
    },
    {
      "cell_type": "code",
      "metadata": {
        "id": "3SI2zt2vx5is",
        "colab_type": "code",
        "colab": {}
      },
      "source": [
        "# Run all meat version\n",
        "\n",
        "# Creates a data frame from the data in 'path' and extracts the countries of interest\n",
        "df = pd.read_csv(path)\n",
        "df_gdp = pd.read_csv(path_gdp) # loads gdp data\n",
        "country_list = unique(list(df['Country']))"
      ],
      "execution_count": 0,
      "outputs": []
    },
    {
      "cell_type": "markdown",
      "metadata": {
        "id": "-HE-6FIux-We",
        "colab_type": "text"
      },
      "source": [
        "# Run all meat version"
      ]
    },
    {
      "cell_type": "code",
      "metadata": {
        "id": "ShsKQUTDGYM1",
        "colab_type": "code",
        "colab": {}
      },
      "source": [
        "# Creates a data frame from the data in 'path' and extracts the countries of interest\n",
        "df = pd.read_csv(path_meatall)\n",
        "df_gdp = pd.read_csv(path_gdp) # loads gdp data\n",
        "country_list = unique(list(df['Country']))"
      ],
      "execution_count": 0,
      "outputs": []
    },
    {
      "cell_type": "code",
      "metadata": {
        "id": "HC44pRkwymbe",
        "colab_type": "code",
        "colab": {
          "base_uri": "https://localhost:8080/",
          "height": 88
        },
        "outputId": "c7c23814-933f-4cfa-e8da-5a75a619212f"
      },
      "source": [
        "# Runs the analysis and saves the meat version\n",
        "commodity = 'Meat'\n",
        "country_dict = country_slope_calcs('Meat', 'Gross Domestic Product') # capitalization matters!\n",
        "countrydf = pd.DataFrame.from_dict(country_dict, orient = 'index')\n",
        "savepath = 'gdrive/My Drive/Colab Notebooks/' + commodity + '_GDP_slopes.csv' # hopefully will always save \n",
        "# to the correct commodity\n",
        "countrydf.to_csv(savepath)"
      ],
      "execution_count": 276,
      "outputs": [
        {
          "output_type": "stream",
          "text": [
            "/usr/local/lib/python3.6/dist-packages/ipykernel_launcher.py:13: UserWarning: This pattern has match groups. To actually get the groups, use str.extract.\n",
            "  del sys.path[0]\n",
            "/usr/local/lib/python3.6/dist-packages/ipykernel_launcher.py:17: UserWarning: This pattern has match groups. To actually get the groups, use str.extract.\n"
          ],
          "name": "stderr"
        }
      ]
    },
    {
      "cell_type": "code",
      "metadata": {
        "id": "W3X9PhqL0YwO",
        "colab_type": "code",
        "colab": {}
      },
      "source": [
        "# plots by country \n",
        "ctry_plot('Australia',df,df_gdp)"
      ],
      "execution_count": 0,
      "outputs": []
    },
    {
      "cell_type": "code",
      "metadata": {
        "id": "NtAJO8itHf9O",
        "colab_type": "code",
        "outputId": "54b7e7ec-ead4-4327-da8e-87dc13dda06a",
        "colab": {
          "base_uri": "https://localhost:8080/",
          "height": 68
        }
      },
      "source": [
        "# Let's run some stats on these GDP / consumption relationships!\n",
        "# Proportion of countries with positive slope:\n",
        "\n",
        "slopes = countrydf.Slope.astype(float) # makes numbers not strings\n",
        "pvals = countrydf.p.astype(float)\n",
        "[pp,sig] = slopes_counter(slopes,pvals)\n",
        "\n",
        "#prop_pos = sum(1 for x in slopes if x > 0) / len(slopes) # gets proportion\n",
        "\n",
        "#counter = 0\n",
        "#for i in range(0,len(slopes)):\n",
        " # if slopes[i] > 0 and pvals[i]<0.05:\n",
        "  #  counter = counter+1\n",
        "\n",
        "#prop_pos_sig = counter / len(slopes)\n",
        "print(commodity)\n",
        "print('Proportion positive:', pp)\n",
        "print('Proportion positive and significant:', sig)"
      ],
      "execution_count": 279,
      "outputs": [
        {
          "output_type": "stream",
          "text": [
            "Meat\n",
            "Proportion positive: 0.7595628415300546\n",
            "Proportion positive and significant: 0.6885245901639344\n"
          ],
          "name": "stdout"
        }
      ]
    },
    {
      "cell_type": "markdown",
      "metadata": {
        "id": "EDktJvvH0g6i",
        "colab_type": "text"
      },
      "source": [
        "# Run by commodity version"
      ]
    },
    {
      "cell_type": "code",
      "metadata": {
        "id": "lqnyP4EN0laX",
        "colab_type": "code",
        "colab": {}
      },
      "source": [
        "# Creates a data frame from the data in 'path' and extracts the countries of interest\n",
        "df = pd.read_csv(path_meattype)\n",
        "df_gdp = pd.read_csv(path_gdp) # loads gdp data\n",
        "country_list = unique(list(df['Country']))"
      ],
      "execution_count": 0,
      "outputs": []
    },
    {
      "cell_type": "code",
      "metadata": {
        "id": "G-fJr0MB1C6-",
        "colab_type": "code",
        "colab": {
          "base_uri": "https://localhost:8080/",
          "height": 88
        },
        "outputId": "5f855a85-da0d-4144-dc04-7f46c6828298"
      },
      "source": [
        "# Runs the analysis for each commodity\n",
        "commodity_list = unique(list(df['Item']))\n",
        "\n",
        "for commodity in commodity_list:\n",
        "  country_dict = country_slope_calcs(commodity, 'Gross Domestic Product') # capitalization matters!\n",
        "  countrydf = pd.DataFrame.from_dict(country_dict, orient = 'index')\n",
        "  savepath = 'gdrive/My Drive/Colab Notebooks/' + commodity + '_GDP_slopes.csv' # hopefully will always save \n",
        "    # to the correct commodity\n",
        "  countrydf.to_csv(savepath)"
      ],
      "execution_count": 285,
      "outputs": [
        {
          "output_type": "stream",
          "text": [
            "/usr/local/lib/python3.6/dist-packages/ipykernel_launcher.py:13: UserWarning: This pattern has match groups. To actually get the groups, use str.extract.\n",
            "  del sys.path[0]\n",
            "/usr/local/lib/python3.6/dist-packages/ipykernel_launcher.py:17: UserWarning: This pattern has match groups. To actually get the groups, use str.extract.\n"
          ],
          "name": "stderr"
        }
      ]
    },
    {
      "cell_type": "code",
      "metadata": {
        "id": "BB3R5qo86rTy",
        "colab_type": "code",
        "colab": {}
      },
      "source": [
        "## Group countries in regions and calculate aggregate statistics\n",
        "categorydf = pd.read_csv(path_countrycats)"
      ],
      "execution_count": 0,
      "outputs": []
    },
    {
      "cell_type": "code",
      "metadata": {
        "id": "CP-3ZElxVx4d",
        "colab_type": "code",
        "colab": {}
      },
      "source": [
        "meat_path = 'gdrive/My Drive/Colab Notebooks/meat_totalgdp_slopes.csv'\n",
        "bovine_path = 'gdrive/My Drive/Colab Notebooks/bovine_totalgdp_slopes.csv'\n",
        "mutton_path = 'gdrive/My Drive/Colab Notebooks/muttongoat_totalgdp_slopes.csv'\n",
        "poultry_path = 'gdrive/My Drive/Colab Notebooks/poultry_totalgdp_slopes.csv'\n",
        "pig_path = 'gdrive/My Drive/Colab Notebooks/pig_totalgdp_slopes.csv'"
      ],
      "execution_count": 0,
      "outputs": []
    },
    {
      "cell_type": "code",
      "metadata": {
        "id": "qkeFnsXMU6sD",
        "colab_type": "code",
        "colab": {}
      },
      "source": [
        "income_groups = unique(categorydf['Income group'])\n",
        "income_groups.remove('x') # removes a spurious 'x' category"
      ],
      "execution_count": 0,
      "outputs": []
    },
    {
      "cell_type": "code",
      "metadata": {
        "id": "5aYFzHkWVPUr",
        "colab_type": "code",
        "colab": {}
      },
      "source": [
        "import csv\n",
        "path_list = {'meat': meat_path, 'bovine': bovine_path, 'mutton': mutton_path,\n",
        "            'poultry': poultry_path, 'pig': pig_path}\n",
        "income_dict = {}\n",
        "\n",
        "for group in income_groups: \n",
        "  ctrydf = categorydf[categorydf['Income group'].str.contains(group)]\n",
        "  ctry_list = list(ctrydf.Economy)\n",
        "  \n",
        "  data_temp = [] # temporary storage for data\n",
        "  dict_temp = {}\n",
        "  for element in path_list:\n",
        "    with open(path_list[element]) as csvfile:\n",
        "      csv_reader = csv.reader(csvfile, delimiter=',')\n",
        "      header = next(csv_reader)\n",
        "      header[0] = 'Country' # hard-coded!\n",
        "      for row in csv_reader: \n",
        "        if row[0] in ctry_list:\n",
        "          data_temp.append(row) # add in that data\n",
        "    groupdf = pd.DataFrame.from_records(data_temp, columns = header)\n",
        "    slopes = list(groupdf['Slope'])\n",
        "    slopes = [float(x) for x in slopes if x]\n",
        "  \n",
        "    pvals = list(groupdf['p'])\n",
        "    pvals = [float(x) for x in pvals if x]\n",
        "\n",
        "    #prop_pos = sum(1 for x in slopes if x > 0) / len(slopes)\n",
        "    [prop_pos,prop_pos_sign] = slopes_counter(slopes,pvals)\n",
        "  \n",
        "    dict_temp.update({element: {'pp': prop_pos, 'sig': prop_pos_sign}})\n",
        "  income_dict[group] = dict_temp\n",
        "        \n",
        "        \n",
        "    "
      ],
      "execution_count": 0,
      "outputs": []
    },
    {
      "cell_type": "code",
      "metadata": {
        "id": "sqH-nA1zVR5E",
        "colab_type": "code",
        "colab": {}
      },
      "source": [
        "income_gdpmeat = pd.DataFrame.from_dict(income_dict)\n",
        "income_gdpmeat.to_csv('gdrive/My Drive/Colab Notebooks/trends_by_income.csv')\n"
      ],
      "execution_count": 0,
      "outputs": []
    },
    {
      "cell_type": "code",
      "metadata": {
        "id": "KGWhvFRJVdLx",
        "colab_type": "code",
        "outputId": "772ab934-97db-4188-89ab-5ab14f13dfe8",
        "colab": {
          "base_uri": "https://localhost:8080/",
          "height": 425
        }
      },
      "source": [
        "income_dict"
      ],
      "execution_count": 262,
      "outputs": [
        {
          "output_type": "execute_result",
          "data": {
            "text/plain": [
              "{'High income': {'bovine': {'pp': 0.5212765957446809,\n",
              "   'sig': 0.5106382978723404},\n",
              "  'meat': {'pp': 0.723404255319149, 'sig': 0.7021276595744681},\n",
              "  'mutton': {'pp': 0.524822695035461, 'sig': 0.48226950354609927},\n",
              "  'pig': {'pp': 0.6681034482758621, 'sig': 0.6077586206896551},\n",
              "  'poultry': {'pp': 0.6436170212765957, 'sig': 0.6063829787234043}},\n",
              " 'Low income': {'bovine': {'pp': 0.6739130434782609,\n",
              "   'sig': 0.5217391304347826},\n",
              "  'meat': {'pp': 0.8260869565217391, 'sig': 0.6521739130434783},\n",
              "  'mutton': {'pp': 0.6666666666666666, 'sig': 0.5362318840579711},\n",
              "  'pig': {'pp': 0.6842105263157895, 'sig': 0.5701754385964912},\n",
              "  'poultry': {'pp': 0.6956521739130435, 'sig': 0.5652173913043478}},\n",
              " 'Lower middle income': {'bovine': {'pp': 0.6060606060606061,\n",
              "   'sig': 0.4696969696969697},\n",
              "  'meat': {'pp': 0.7575757575757576, 'sig': 0.6060606060606061},\n",
              "  'mutton': {'pp': 0.5858585858585859, 'sig': 0.45454545454545453},\n",
              "  'pig': {'pp': 0.6441717791411042, 'sig': 0.5337423312883436},\n",
              "  'poultry': {'pp': 0.6515151515151515, 'sig': 0.5378787878787878}},\n",
              " 'Upper middle income': {'bovine': {'pp': 0.7045454545454546,\n",
              "   'sig': 0.6136363636363636},\n",
              "  'meat': {'pp': 0.9090909090909091, 'sig': 0.8409090909090909},\n",
              "  'mutton': {'pp': 0.6439393939393939, 'sig': 0.5606060606060606},\n",
              "  'pig': {'pp': 0.7454545454545455, 'sig': 0.6590909090909091},\n",
              "  'poultry': {'pp': 0.7272727272727273, 'sig': 0.6590909090909091}}}"
            ]
          },
          "metadata": {
            "tags": []
          },
          "execution_count": 262
        }
      ]
    }
  ]
}